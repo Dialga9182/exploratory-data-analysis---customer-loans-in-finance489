{
 "cells": [
  {
   "cell_type": "markdown",
   "metadata": {},
   "source": [
    "# Analysis and Querying 1:\n",
    "<h3>Description/Order of events???: Imports, Define the dataframe and some lists for further use, Performing transformations on the dataframe, </h3>\n",
    "<h5>This ipynb file will take data from the data.csv file and use functions and classes from the db_utils.py file to clean and format it as a dataframe and then save it as a separate file called data2.csv</h5>\n",
    "\n",
    "<h5>Also, this serves as a benchmark for other projects which </h5>"
   ]
  },
  {
   "cell_type": "markdown",
   "metadata": {},
   "source": [
    "<h3>Subtitle: Imports</h3>\n",
    "\n",
    "<h4>These are all from db_utils, and that .py file is deprecated as of 27/07/2024</h4>"
   ]
  },
  {
   "cell_type": "code",
   "execution_count": null,
   "metadata": {},
   "outputs": [],
   "source": [
    "from db_utils import RDSDatabaseConnector\n",
    "RDS = RDSDatabaseConnector()\n",
    "from db_utils import DataTransform\n",
    "DT = DataTransform()\n",
    "from db_utils import DataFrameInfo\n",
    "DFI = DataFrameInfo()\n",
    "from db_utils import amount_of_nulls_and_column_drop\n",
    "from db_utils import DataFrameTransform\n",
    "DFT = DataFrameTransform()\n",
    "from db_utils import Plotter\n",
    "PL = Plotter()"
   ]
  },
  {
   "cell_type": "markdown",
   "metadata": {},
   "source": [
    "<h3>Subtitle: Define the dataframe and some lists for further use</h3>"
   ]
  },
  {
   "cell_type": "code",
   "execution_count": null,
   "metadata": {},
   "outputs": [],
   "source": [
    "df = RDS.load_dataframe_from_csv()\n",
    "\n",
    "symbols = str(input('separate by spaces which columns are to be dropped: ')).split()\n",
    "list_of_to_categorical = ['term','grade','sub_grade', 'employment_length','home_ownership','verification_status','loan_status','payment_plan','purpose','delinq_2yrs','application_type']\n",
    "list_of_to_boolean = ['policy_code']\n",
    "list_of_to_float = []\n",
    "list_of_to_int = []\n",
    "dates_to_convert = ['issue_date','earliest_credit_line','last_payment_date','next_payment_date','last_credit_pull_date']"
   ]
  },
  {
   "cell_type": "markdown",
   "metadata": {},
   "source": [
    "<h3>Subtitle: Performing transformations on the dataframe.</h3>\n",
    "\n",
    "<h5>Description: Some of these will remove excess columns, like excess_symbol_removal. Others convert certain data types into other data types.</h5>\n"
   ]
  },
  {
   "cell_type": "code",
   "execution_count": null,
   "metadata": {},
   "outputs": [],
   "source": [
    "df = DT.excess_symbol_removal(df, symbols, display=False)\n",
    "df = DT.to_categorical(df, list_of_to_categorical)\n",
    "df = DT.to_boolean(df, list_of_to_boolean)\n",
    "df = DT.to_float(df, list_of_to_float)\n",
    "df = DT.to_int(df, list_of_to_int)\n",
    "df = DT.convert_dates_to_proper_format(df, dates_to_convert)"
   ]
  },
  {
   "cell_type": "markdown",
   "metadata": {},
   "source": [
    "\n",
    "<h5>Then we call methods which will display values of interest.</h5>"
   ]
  },
  {
   "cell_type": "code",
   "execution_count": null,
   "metadata": {},
   "outputs": [],
   "source": [
    "df = DFI.describe_all_columns_to_check_their_datatypes(df, display = False)\n",
    "df = DFI.extract_statistical_values_median_stddev_mean_from_cols_and_dataframe(df, display = False)\n",
    "df = DFI.count_distinct_values_in_categorical_columns(df, display = False)\n",
    "df = DFI.print_out_the_shape_of_the_dataframe(df, display = False)\n",
    "df = DFI.generate_a_count_slash_percentage_count_of_NULL_values_in_each_column(df, display = False)"
   ]
  },
  {
   "cell_type": "markdown",
   "metadata": {},
   "source": [
    "<h3>Subtitle: Generating a plot which shows where null values are in the dataset</h3>"
   ]
  },
  {
   "cell_type": "code",
   "execution_count": null,
   "metadata": {},
   "outputs": [],
   "source": [
    "df = PL.generate_a_plot_for_nulls(df)\n",
    "df = amount_of_nulls_and_column_drop(df, display = False)\n",
    "\n",
    "df = DFT.impute(df)"
   ]
  },
  {
   "cell_type": "markdown",
   "metadata": {},
   "source": [
    "<h3>Subtitle: Generating a similar plot which shows where null values are in the dataset</h3>"
   ]
  },
  {
   "cell_type": "code",
   "execution_count": null,
   "metadata": {},
   "outputs": [],
   "source": [
    "df = PL.generate_a_plot_for_nulls(df)\n",
    "df = amount_of_nulls_and_column_drop(df, display = False)"
   ]
  },
  {
   "cell_type": "markdown",
   "metadata": {},
   "source": [
    "<h3>Perform Skew Correction</h3>"
   ]
  },
  {
   "cell_type": "code",
   "execution_count": null,
   "metadata": {},
   "outputs": [],
   "source": [
    "df = PL.skew_correction(df)"
   ]
  },
  {
   "cell_type": "markdown",
   "metadata": {},
   "source": [
    "<h3>Saving the dataset to "
   ]
  },
  {
   "cell_type": "code",
   "execution_count": null,
   "metadata": {},
   "outputs": [],
   "source": [
    "df.to_csv('data2.csv', index=False)"
   ]
  },
  {
   "cell_type": "code",
   "execution_count": null,
   "metadata": {},
   "outputs": [],
   "source": [
    "\n",
    "from scipy.stats import skew\n",
    "from scipy.stats import boxcox\n",
    "from scipy.stats import yeojohnson\n",
    "import seaborn as sns\n",
    "from matplotlib import pyplot as plt\n",
    "import numpy as np\n",
    "import missingno as msno\n",
    "\n",
    "'''LIST OF AVAILABLE TRANSFORMATIONS\n",
    "#df['instalment'] = np.log(df['instalment'])\n",
    "#df['instalment'] = boxcox(df['instalment'])[0]\n",
    "#df['instalment'] = np.sqrt(df['instalment'])\n",
    "#df['instalment'] = np.cbrt(df['instalment'])\n",
    "#df['instalment'] = yeojohnson(df['instalment'])[0]\n",
    "'''\n",
    "\n"
   ]
  },
  {
   "cell_type": "markdown",
   "metadata": {},
   "source": [
    "<h3>(0) - Load the column names</h3>"
   ]
  },
  {
   "cell_type": "markdown",
   "metadata": {},
   "source": [
    "<h3>(1) - Removal of symbols </h3>"
   ]
  },
  {
   "cell_type": "markdown",
   "metadata": {},
   "source": [
    "<h3>(2) - Numerical to Categorical</h3>"
   ]
  },
  {
   "cell_type": "markdown",
   "metadata": {},
   "source": [
    "<h3>(3) - Numerical to Boolean</h3>"
   ]
  },
  {
   "cell_type": "markdown",
   "metadata": {},
   "source": [
    "<h3>(4) - Categorical to Boolean</h3>"
   ]
  },
  {
   "cell_type": "markdown",
   "metadata": {},
   "source": [
    "<h3>(5) - int to float</h3>"
   ]
  },
  {
   "cell_type": "markdown",
   "metadata": {},
   "source": [
    "<h3>(6) - float to int</h3>"
   ]
  },
  {
   "cell_type": "markdown",
   "metadata": {},
   "source": [
    "<h3>(7) - Convert Dates to Proper Format</h3>"
   ]
  },
  {
   "cell_type": "markdown",
   "metadata": {},
   "source": [
    "<h3>(8) - Describe all columns to check their datatypes</h3>"
   ]
  },
  {
   "cell_type": "markdown",
   "metadata": {},
   "source": [
    "<h3>(9) - extract statistical values median stddev mean from cols and dataframe</h3>"
   ]
  },
  {
   "cell_type": "markdown",
   "metadata": {},
   "source": [
    "<h3>(10) - Count distinct values in categorical columns</h3>"
   ]
  },
  {
   "cell_type": "markdown",
   "metadata": {},
   "source": [
    "<h3>(11) - print out the shape of the dataframe</h3>"
   ]
  },
  {
   "cell_type": "markdown",
   "metadata": {},
   "source": [
    "<h3>(12) - Generate a count slash percentage count of null values in each column</h3>"
   ]
  },
  {
   "cell_type": "markdown",
   "metadata": {},
   "source": [
    "<h3>(13) - </h3>"
   ]
  }
 ],
 "metadata": {
  "kernelspec": {
   "display_name": "Python 3",
   "language": "python",
   "name": "python3"
  },
  "language_info": {
   "codemirror_mode": {
    "name": "ipython",
    "version": 3
   },
   "file_extension": ".py",
   "mimetype": "text/x-python",
   "name": "python",
   "nbconvert_exporter": "python",
   "pygments_lexer": "ipython3",
   "version": "3.12.2"
  }
 },
 "nbformat": 4,
 "nbformat_minor": 2
}
