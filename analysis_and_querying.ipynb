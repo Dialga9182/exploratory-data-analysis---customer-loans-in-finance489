{
 "cells": [
  {
   "cell_type": "markdown",
   "metadata": {},
   "source": [
    "# Analysis and Querying:"
   ]
  },
  {
   "cell_type": "code",
   "execution_count": 1,
   "metadata": {},
   "outputs": [
    {
     "name": "stdout",
     "output_type": "stream",
     "text": [
      "['id', 'member_id', 'loan_amount', 'funded_amount', 'funded_amount_inv', 'term', 'int_rate', 'instalment', 'grade', 'sub_grade', 'employment_length', 'home_ownership', 'annual_inc', 'verification_status', 'issue_date', 'loan_status', 'payment_plan', 'purpose', 'dti', 'delinq_2yrs', 'earliest_credit_line', 'inq_last_6mths', 'mths_since_last_delinq', 'mths_since_last_record', 'open_accounts', 'total_accounts', 'out_prncp', 'out_prncp_inv', 'total_payment', 'total_payment_inv', 'total_rec_prncp', 'total_rec_int', 'total_rec_late_fee', 'recoveries', 'collection_recovery_fee', 'last_payment_date', 'last_payment_amount', 'next_payment_date', 'last_credit_pull_date', 'collections_12_mths_ex_med', 'mths_since_last_major_derog', 'policy_code', 'application_type']\n",
      "These are the symbols that will be dropped:  []\n",
      "These are the remaining symbols:  ['id', 'member_id', 'loan_amount', 'funded_amount', 'funded_amount_inv', 'term', 'int_rate', 'instalment', 'grade', 'sub_grade', 'employment_length', 'home_ownership', 'annual_inc', 'verification_status', 'issue_date', 'loan_status', 'payment_plan', 'purpose', 'dti', 'delinq_2yrs', 'earliest_credit_line', 'inq_last_6mths', 'mths_since_last_delinq', 'mths_since_last_record', 'open_accounts', 'total_accounts', 'out_prncp', 'out_prncp_inv', 'total_payment', 'total_payment_inv', 'total_rec_prncp', 'total_rec_int', 'total_rec_late_fee', 'recoveries', 'collection_recovery_fee', 'last_payment_date', 'last_payment_amount', 'next_payment_date', 'last_credit_pull_date', 'collections_12_mths_ex_med', 'mths_since_last_major_derog', 'policy_code', 'application_type']\n",
      "id                                      int64\n",
      "member_id                               int64\n",
      "loan_amount                             int64\n",
      "funded_amount                         float64\n",
      "funded_amount_inv                     float64\n",
      "term                                 category\n",
      "int_rate                              float64\n",
      "instalment                            float64\n",
      "grade                                category\n",
      "sub_grade                            category\n",
      "employment_length                      object\n",
      "home_ownership                       category\n",
      "annual_inc                            float64\n",
      "verification_status                  category\n",
      "issue_date                     datetime64[ns]\n",
      "loan_status                          category\n",
      "payment_plan                         category\n",
      "purpose                              category\n",
      "dti                                   float64\n",
      "delinq_2yrs                          category\n",
      "earliest_credit_line           datetime64[ns]\n",
      "inq_last_6mths                          int64\n",
      "mths_since_last_delinq                float64\n",
      "mths_since_last_record                float64\n",
      "open_accounts                           int64\n",
      "total_accounts                          int64\n",
      "out_prncp                             float64\n",
      "out_prncp_inv                         float64\n",
      "total_payment                         float64\n",
      "total_payment_inv                     float64\n",
      "total_rec_prncp                       float64\n",
      "total_rec_int                         float64\n",
      "total_rec_late_fee                    float64\n",
      "recoveries                            float64\n",
      "collection_recovery_fee               float64\n",
      "last_payment_date              datetime64[ns]\n",
      "last_payment_amount                   float64\n",
      "next_payment_date              datetime64[ns]\n",
      "last_credit_pull_date          datetime64[ns]\n",
      "collections_12_mths_ex_med            float64\n",
      "mths_since_last_major_derog           float64\n",
      "policy_code                              bool\n",
      "application_type                     category\n",
      "dtype: object\n",
      "                 id     member_id   loan_amount  funded_amount  \\\n",
      "count  5.423100e+04  5.423100e+04  54231.000000   51224.000000   \n",
      "mean   7.621797e+06  8.655350e+06  13333.076100   13229.509117   \n",
      "std    9.571362e+06  1.031281e+07   8082.196709    8019.017599   \n",
      "min    5.552100e+04  7.069400e+04    500.000000     500.000000   \n",
      "25%    7.594330e+05  9.587720e+05   7000.000000    7000.000000   \n",
      "50%    7.084590e+06  8.709873e+06  12000.000000   12000.000000   \n",
      "75%    8.860616e+06  1.052714e+07  18000.000000   18000.000000   \n",
      "max    3.867612e+07  4.146185e+07  35000.000000   35000.000000   \n",
      "\n",
      "       funded_amount_inv      int_rate    instalment    annual_inc  \\\n",
      "count       54231.000000  49062.000000  54231.000000  5.423100e+04   \n",
      "mean        12952.622979     13.507328    400.013953  7.222085e+04   \n",
      "std          8099.473527      4.392893    238.920012  5.158934e+04   \n",
      "min             0.000000      5.420000     15.670000  3.300000e+03   \n",
      "25%          6700.000000     10.370000    224.205000  4.500000e+04   \n",
      "50%         11300.000000     13.160000    347.150000  6.100000e+04   \n",
      "75%         18000.000000     16.200000    527.550000  8.600000e+04   \n",
      "max         35000.000000     26.060000   1407.010000  2.039784e+06   \n",
      "\n",
      "                dti  inq_last_6mths  ...  total_payment  total_payment_inv  \\\n",
      "count  54231.000000    54231.000000  ...   54231.000000       54231.000000   \n",
      "mean      15.867087        0.893843  ...   12079.208480       11788.946618   \n",
      "std        7.623124        1.261421  ...    8391.043845        8363.508506   \n",
      "min        0.000000        0.000000  ...       0.000000           0.000000   \n",
      "25%       10.200000        0.000000  ...    5895.210000        5658.815000   \n",
      "50%       15.600000        1.000000  ...   10113.250000        9835.830000   \n",
      "75%       21.260000        1.000000  ...   16272.895000       15978.200000   \n",
      "max       39.910000       33.000000  ...   55758.222084       55061.000000   \n",
      "\n",
      "       total_rec_prncp  total_rec_int  total_rec_late_fee    recoveries  \\\n",
      "count     54231.000000   54231.000000        54231.000000  54231.000000   \n",
      "mean       9407.048589    2577.757101            0.901512     93.501288   \n",
      "std        6958.124264    2581.657345            6.215792    630.843636   \n",
      "min           0.000000       0.000000            0.000000      0.000000   \n",
      "25%        4264.350000     889.560000            0.000000      0.000000   \n",
      "50%        7644.920000    1734.640000            0.000000      0.000000   \n",
      "75%       12505.625000    3323.765000            0.000000      0.000000   \n",
      "max       35000.020000   23062.450000          358.680000  27750.000000   \n",
      "\n",
      "       collection_recovery_fee  last_payment_amount  \\\n",
      "count             54231.000000         54231.000000   \n",
      "mean                 10.859057          3130.706393   \n",
      "std                 120.193950          5323.801675   \n",
      "min                   0.000000             0.000000   \n",
      "25%                   0.000000           289.790000   \n",
      "50%                   0.000000           562.670000   \n",
      "75%                   0.000000          3738.120000   \n",
      "max                7002.190000         36115.200000   \n",
      "\n",
      "       collections_12_mths_ex_med  mths_since_last_major_derog  \n",
      "count                54180.000000                  7499.000000  \n",
      "mean                     0.004208                    42.253634  \n",
      "std                      0.070990                    21.052360  \n",
      "min                      0.000000                     0.000000  \n",
      "25%                      0.000000                    26.000000  \n",
      "50%                      0.000000                    42.000000  \n",
      "75%                      0.000000                    59.000000  \n",
      "max                      4.000000                   146.000000  \n",
      "\n",
      "[8 rows x 26 columns]\n",
      "Medians for each column: \n",
      "\n",
      "id                             7084590.00\n",
      "member_id                      8709873.00\n",
      "loan_amount                      12000.00\n",
      "funded_amount                    12000.00\n",
      "funded_amount_inv                11300.00\n",
      "int_rate                            13.16\n",
      "instalment                         347.15\n",
      "annual_inc                       61000.00\n",
      "dti                                 15.60\n",
      "inq_last_6mths                       1.00\n",
      "mths_since_last_delinq              31.00\n",
      "mths_since_last_record              87.00\n",
      "open_accounts                       10.00\n",
      "total_accounts                      23.00\n",
      "out_prncp                            0.00\n",
      "out_prncp_inv                        0.00\n",
      "total_payment                    10113.25\n",
      "total_payment_inv                 9835.83\n",
      "total_rec_prncp                   7644.92\n",
      "total_rec_int                     1734.64\n",
      "total_rec_late_fee                   0.00\n",
      "recoveries                           0.00\n",
      "collection_recovery_fee              0.00\n",
      "last_payment_amount                562.67\n",
      "collections_12_mths_ex_med           0.00\n",
      "mths_since_last_major_derog         42.00\n",
      "policy_code                          1.00\n",
      "dtype: float64\n",
      "id                             54231\n",
      "member_id                      54231\n",
      "loan_amount                     1083\n",
      "funded_amount                   1122\n",
      "funded_amount_inv               5261\n",
      "term                               2\n",
      "int_rate                         457\n",
      "instalment                     19940\n",
      "grade                              7\n",
      "sub_grade                         35\n",
      "employment_length                 11\n",
      "home_ownership                     5\n",
      "annual_inc                      6132\n",
      "verification_status                3\n",
      "issue_date                        61\n",
      "loan_status                        9\n",
      "payment_plan                       2\n",
      "purpose                           14\n",
      "dti                             3611\n",
      "delinq_2yrs                       16\n",
      "earliest_credit_line             587\n",
      "inq_last_6mths                    24\n",
      "mths_since_last_delinq           100\n",
      "mths_since_last_record           120\n",
      "open_accounts                     48\n",
      "total_accounts                    88\n",
      "out_prncp                      17673\n",
      "out_prncp_inv                  17872\n",
      "total_payment                  51698\n",
      "total_payment_inv              51561\n",
      "total_rec_prncp                25117\n",
      "total_rec_int                  49331\n",
      "total_rec_late_fee              1439\n",
      "recoveries                      3599\n",
      "collection_recovery_fee         2944\n",
      "last_payment_date                 98\n",
      "last_payment_amount            38235\n",
      "next_payment_date                 96\n",
      "last_credit_pull_date            101\n",
      "collections_12_mths_ex_med         5\n",
      "mths_since_last_major_derog      113\n",
      "policy_code                        1\n",
      "application_type                   1\n",
      "dtype: int64\n",
      "(54231, 43)\n",
      "id : Non-nulls:  54231 Non-Null=  100.0 %\n",
      "member_id : Non-nulls:  54231 Non-Null=  100.0 %\n",
      "loan_amount : Non-nulls:  54231 Non-Null=  100.0 %\n",
      "funded_amount : Non-nulls:  54231 Non-Null=  100.0 %\n",
      "funded_amount_inv : Non-nulls:  54231 Non-Null=  100.0 %\n",
      "term : Non-nulls:  54231 Non-Null=  100.0 %\n",
      "int_rate : Non-nulls:  54231 Non-Null=  100.0 %\n",
      "instalment : Non-nulls:  54231 Non-Null=  100.0 %\n",
      "grade : Non-nulls:  54231 Non-Null=  100.0 %\n",
      "sub_grade : Non-nulls:  54231 Non-Null=  100.0 %\n",
      "employment_length : Non-nulls:  54231 Non-Null=  100.0 %\n",
      "home_ownership : Non-nulls:  54231 Non-Null=  100.0 %\n",
      "annual_inc : Non-nulls:  54231 Non-Null=  100.0 %\n",
      "verification_status : Non-nulls:  54231 Non-Null=  100.0 %\n",
      "issue_date : Non-nulls:  54231 Non-Null=  100.0 %\n",
      "loan_status : Non-nulls:  54231 Non-Null=  100.0 %\n",
      "payment_plan : Non-nulls:  54231 Non-Null=  100.0 %\n",
      "purpose : Non-nulls:  54231 Non-Null=  100.0 %\n",
      "dti : Non-nulls:  54231 Non-Null=  100.0 %\n",
      "delinq_2yrs : Non-nulls:  54231 Non-Null=  100.0 %\n",
      "earliest_credit_line : Non-nulls:  54231 Non-Null=  100.0 %\n",
      "inq_last_6mths : Non-nulls:  54231 Non-Null=  100.0 %\n",
      "mths_since_last_delinq : Non-nulls:  54231 Non-Null=  100.0 %\n",
      "mths_since_last_record : Non-nulls:  54231 Non-Null=  100.0 %\n",
      "open_accounts : Non-nulls:  54231 Non-Null=  100.0 %\n",
      "total_accounts : Non-nulls:  54231 Non-Null=  100.0 %\n",
      "out_prncp : Non-nulls:  54231 Non-Null=  100.0 %\n",
      "out_prncp_inv : Non-nulls:  54231 Non-Null=  100.0 %\n",
      "total_payment : Non-nulls:  54231 Non-Null=  100.0 %\n",
      "total_payment_inv : Non-nulls:  54231 Non-Null=  100.0 %\n",
      "total_rec_prncp : Non-nulls:  54231 Non-Null=  100.0 %\n",
      "total_rec_int : Non-nulls:  54231 Non-Null=  100.0 %\n",
      "total_rec_late_fee : Non-nulls:  54231 Non-Null=  100.0 %\n",
      "recoveries : Non-nulls:  54231 Non-Null=  100.0 %\n",
      "collection_recovery_fee : Non-nulls:  54231 Non-Null=  100.0 %\n",
      "last_payment_date : Non-nulls:  54231 Non-Null=  100.0 %\n",
      "last_payment_amount : Non-nulls:  54231 Non-Null=  100.0 %\n",
      "next_payment_date : Non-nulls:  54231 Non-Null=  100.0 %\n",
      "last_credit_pull_date : Non-nulls:  54231 Non-Null=  100.0 %\n",
      "collections_12_mths_ex_med : Non-nulls:  54231 Non-Null=  100.0 %\n",
      "mths_since_last_major_derog : Non-nulls:  54231 Non-Null=  100.0 %\n",
      "policy_code : Non-nulls:  54231 Non-Null=  100.0 %\n",
      "application_type : Non-nulls:  54231 Non-Null=  100.0 %\n",
      "id : Non-nulls:  54231 Non-Null=  100.0 %\n"
     ]
    },
    {
     "ename": "ValueError",
     "evalue": "Cannot specify both 'labels' and 'index'/'columns'",
     "output_type": "error",
     "traceback": [
      "\u001b[1;31m---------------------------------------------------------------------------\u001b[0m",
      "\u001b[1;31mValueError\u001b[0m                                Traceback (most recent call last)",
      "\u001b[1;32m~\\AppData\\Local\\Temp\\ipykernel_16660\\884171395.py\u001b[0m in \u001b[0;36m?\u001b[1;34m()\u001b[0m\n\u001b[0;32m     41\u001b[0m \u001b[1;33m\u001b[0m\u001b[0m\n\u001b[0;32m     42\u001b[0m \u001b[0mdf\u001b[0m \u001b[1;33m=\u001b[0m \u001b[0mDFI\u001b[0m\u001b[1;33m.\u001b[0m\u001b[0mgenerate_a_count_slash_percentage_count_of_NULL_values_in_each_column\u001b[0m\u001b[1;33m(\u001b[0m\u001b[0mdf\u001b[0m\u001b[1;33m)\u001b[0m\u001b[1;33m\u001b[0m\u001b[1;33m\u001b[0m\u001b[0m\n\u001b[0;32m     43\u001b[0m \u001b[1;33m\u001b[0m\u001b[0m\n\u001b[0;32m     44\u001b[0m \u001b[1;32mfrom\u001b[0m \u001b[0mdb_utils\u001b[0m \u001b[1;32mimport\u001b[0m \u001b[0mamount_of_nulls_and_column_drop\u001b[0m\u001b[1;33m\u001b[0m\u001b[1;33m\u001b[0m\u001b[0m\n\u001b[1;32m---> 45\u001b[1;33m \u001b[0mdf\u001b[0m \u001b[1;33m=\u001b[0m \u001b[0mamount_of_nulls_and_column_drop\u001b[0m\u001b[1;33m(\u001b[0m\u001b[0mdf\u001b[0m\u001b[1;33m)\u001b[0m\u001b[1;33m\u001b[0m\u001b[1;33m\u001b[0m\u001b[0m\n\u001b[0m",
      "\u001b[1;32mc:\\Users\\james\\Documents\\GitHub\\exploratory-data-analysis---customer-loans-in-finance489\\db_utils.py\u001b[0m in \u001b[0;36m?\u001b[1;34m(df)\u001b[0m\n\u001b[0;32m    306\u001b[0m         \u001b[0mprint\u001b[0m\u001b[1;33m(\u001b[0m\u001b[0mi\u001b[0m\u001b[1;33m,\u001b[0m \u001b[1;34m':'\u001b[0m\u001b[1;33m,\u001b[0m \u001b[1;34m'Non-nulls: '\u001b[0m\u001b[1;33m,\u001b[0m \u001b[1;33m(\u001b[0m\u001b[0mdf\u001b[0m\u001b[1;33m[\u001b[0m\u001b[0mi\u001b[0m\u001b[1;33m]\u001b[0m\u001b[1;33m.\u001b[0m\u001b[0misnull\u001b[0m\u001b[1;33m(\u001b[0m\u001b[1;33m)\u001b[0m\u001b[1;33m.\u001b[0m\u001b[0mcount\u001b[0m\u001b[1;33m(\u001b[0m\u001b[1;33m)\u001b[0m\u001b[1;33m)\u001b[0m\u001b[1;33m,\u001b[0m \u001b[1;34m'Non-Null= '\u001b[0m\u001b[1;33m,\u001b[0m \u001b[1;33m(\u001b[0m\u001b[1;33m(\u001b[0m\u001b[1;33m(\u001b[0m\u001b[0mdf\u001b[0m\u001b[1;33m[\u001b[0m\u001b[0mi\u001b[0m\u001b[1;33m]\u001b[0m\u001b[1;33m.\u001b[0m\u001b[0misnull\u001b[0m\u001b[1;33m(\u001b[0m\u001b[1;33m)\u001b[0m\u001b[1;33m.\u001b[0m\u001b[0mcount\u001b[0m\u001b[1;33m(\u001b[0m\u001b[1;33m)\u001b[0m\u001b[1;33m)\u001b[0m\u001b[1;33m/\u001b[0m\u001b[1;33m(\u001b[0m\u001b[0mdf\u001b[0m\u001b[1;33m.\u001b[0m\u001b[0mshape\u001b[0m\u001b[1;33m[\u001b[0m\u001b[1;36m0\u001b[0m\u001b[1;33m]\u001b[0m\u001b[1;33m)\u001b[0m\u001b[1;33m)\u001b[0m\u001b[1;33m*\u001b[0m\u001b[1;36m100\u001b[0m\u001b[1;33m)\u001b[0m\u001b[1;33m,\u001b[0m\u001b[1;34m'%'\u001b[0m\u001b[1;33m)\u001b[0m\u001b[1;33m\u001b[0m\u001b[1;33m\u001b[0m\u001b[0m\n\u001b[0;32m    307\u001b[0m         \u001b[1;31m#determine a percentage of nulls that is acceptable\u001b[0m\u001b[1;33m\u001b[0m\u001b[1;33m\u001b[0m\u001b[0m\n\u001b[0;32m    308\u001b[0m         \u001b[1;31m#if non-nulls < 80% of total dataset, drop column\u001b[0m\u001b[1;33m\u001b[0m\u001b[1;33m\u001b[0m\u001b[0m\n\u001b[0;32m    309\u001b[0m         \u001b[1;32mif\u001b[0m \u001b[1;33m(\u001b[0m\u001b[1;33m(\u001b[0m\u001b[1;33m(\u001b[0m\u001b[0mdf\u001b[0m\u001b[1;33m[\u001b[0m\u001b[0mi\u001b[0m\u001b[1;33m]\u001b[0m\u001b[1;33m.\u001b[0m\u001b[0misnull\u001b[0m\u001b[1;33m(\u001b[0m\u001b[1;33m)\u001b[0m\u001b[1;33m.\u001b[0m\u001b[0mcount\u001b[0m\u001b[1;33m(\u001b[0m\u001b[1;33m)\u001b[0m\u001b[1;33m)\u001b[0m\u001b[1;33m/\u001b[0m\u001b[1;33m(\u001b[0m\u001b[0mdf\u001b[0m\u001b[1;33m.\u001b[0m\u001b[0mshape\u001b[0m\u001b[1;33m[\u001b[0m\u001b[1;36m0\u001b[0m\u001b[1;33m]\u001b[0m\u001b[1;33m)\u001b[0m\u001b[1;33m)\u001b[0m\u001b[1;33m*\u001b[0m\u001b[1;36m100\u001b[0m\u001b[1;33m)\u001b[0m \u001b[1;33m<\u001b[0m \u001b[1;36m101\u001b[0m\u001b[1;33m:\u001b[0m\u001b[1;33m\u001b[0m\u001b[1;33m\u001b[0m\u001b[0m\n\u001b[1;32m--> 310\u001b[1;33m             \u001b[0mdf\u001b[0m\u001b[1;33m.\u001b[0m\u001b[0mdrop\u001b[0m\u001b[1;33m(\u001b[0m\u001b[0mi\u001b[0m\u001b[1;33m,\u001b[0m \u001b[0mindex\u001b[0m \u001b[1;33m=\u001b[0m \u001b[1;36m1\u001b[0m\u001b[1;33m)\u001b[0m\u001b[1;33m\u001b[0m\u001b[1;33m\u001b[0m\u001b[0m\n\u001b[0m\u001b[0;32m    311\u001b[0m     \u001b[1;32mreturn\u001b[0m \u001b[0mdf\u001b[0m\u001b[1;33m\u001b[0m\u001b[1;33m\u001b[0m\u001b[0m\n",
      "\u001b[1;32mc:\\Users\\james\\AppData\\Local\\Programs\\Python\\Python311\\Lib\\site-packages\\pandas\\util\\_decorators.py\u001b[0m in \u001b[0;36m?\u001b[1;34m(*args, **kwargs)\u001b[0m\n\u001b[0;32m    327\u001b[0m                     \u001b[0mmsg\u001b[0m\u001b[1;33m.\u001b[0m\u001b[0mformat\u001b[0m\u001b[1;33m(\u001b[0m\u001b[0marguments\u001b[0m\u001b[1;33m=\u001b[0m\u001b[0m_format_argument_list\u001b[0m\u001b[1;33m(\u001b[0m\u001b[0mallow_args\u001b[0m\u001b[1;33m)\u001b[0m\u001b[1;33m)\u001b[0m\u001b[1;33m,\u001b[0m\u001b[1;33m\u001b[0m\u001b[1;33m\u001b[0m\u001b[0m\n\u001b[0;32m    328\u001b[0m                     \u001b[0mFutureWarning\u001b[0m\u001b[1;33m,\u001b[0m\u001b[1;33m\u001b[0m\u001b[1;33m\u001b[0m\u001b[0m\n\u001b[0;32m    329\u001b[0m                     \u001b[0mstacklevel\u001b[0m\u001b[1;33m=\u001b[0m\u001b[0mfind_stack_level\u001b[0m\u001b[1;33m(\u001b[0m\u001b[1;33m)\u001b[0m\u001b[1;33m,\u001b[0m\u001b[1;33m\u001b[0m\u001b[1;33m\u001b[0m\u001b[0m\n\u001b[0;32m    330\u001b[0m                 )\n\u001b[1;32m--> 331\u001b[1;33m             \u001b[1;32mreturn\u001b[0m \u001b[0mfunc\u001b[0m\u001b[1;33m(\u001b[0m\u001b[1;33m*\u001b[0m\u001b[0margs\u001b[0m\u001b[1;33m,\u001b[0m \u001b[1;33m**\u001b[0m\u001b[0mkwargs\u001b[0m\u001b[1;33m)\u001b[0m\u001b[1;33m\u001b[0m\u001b[1;33m\u001b[0m\u001b[0m\n\u001b[0m",
      "\u001b[1;32mc:\\Users\\james\\AppData\\Local\\Programs\\Python\\Python311\\Lib\\site-packages\\pandas\\core\\frame.py\u001b[0m in \u001b[0;36m?\u001b[1;34m(self, labels, axis, index, columns, level, inplace, errors)\u001b[0m\n\u001b[0;32m   5392\u001b[0m                 \u001b[0mweight\u001b[0m  \u001b[1;36m250.0\u001b[0m   \u001b[1;36m150.0\u001b[0m\u001b[1;33m\u001b[0m\u001b[1;33m\u001b[0m\u001b[0m\n\u001b[0;32m   5393\u001b[0m         \u001b[0mfalcon\u001b[0m  \u001b[0mspeed\u001b[0m   \u001b[1;36m320.0\u001b[0m   \u001b[1;36m250.0\u001b[0m\u001b[1;33m\u001b[0m\u001b[1;33m\u001b[0m\u001b[0m\n\u001b[0;32m   5394\u001b[0m                 \u001b[0mweight\u001b[0m  \u001b[1;36m1.0\u001b[0m     \u001b[1;36m0.8\u001b[0m\u001b[1;33m\u001b[0m\u001b[1;33m\u001b[0m\u001b[0m\n\u001b[0;32m   5395\u001b[0m         \"\"\"\n\u001b[1;32m-> 5396\u001b[1;33m         return super().drop(\n\u001b[0m\u001b[0;32m   5397\u001b[0m             \u001b[0mlabels\u001b[0m\u001b[1;33m=\u001b[0m\u001b[0mlabels\u001b[0m\u001b[1;33m,\u001b[0m\u001b[1;33m\u001b[0m\u001b[1;33m\u001b[0m\u001b[0m\n\u001b[0;32m   5398\u001b[0m             \u001b[0maxis\u001b[0m\u001b[1;33m=\u001b[0m\u001b[0maxis\u001b[0m\u001b[1;33m,\u001b[0m\u001b[1;33m\u001b[0m\u001b[1;33m\u001b[0m\u001b[0m\n\u001b[0;32m   5399\u001b[0m             \u001b[0mindex\u001b[0m\u001b[1;33m=\u001b[0m\u001b[0mindex\u001b[0m\u001b[1;33m,\u001b[0m\u001b[1;33m\u001b[0m\u001b[1;33m\u001b[0m\u001b[0m\n",
      "\u001b[1;32mc:\\Users\\james\\AppData\\Local\\Programs\\Python\\Python311\\Lib\\site-packages\\pandas\\util\\_decorators.py\u001b[0m in \u001b[0;36m?\u001b[1;34m(*args, **kwargs)\u001b[0m\n\u001b[0;32m    327\u001b[0m                     \u001b[0mmsg\u001b[0m\u001b[1;33m.\u001b[0m\u001b[0mformat\u001b[0m\u001b[1;33m(\u001b[0m\u001b[0marguments\u001b[0m\u001b[1;33m=\u001b[0m\u001b[0m_format_argument_list\u001b[0m\u001b[1;33m(\u001b[0m\u001b[0mallow_args\u001b[0m\u001b[1;33m)\u001b[0m\u001b[1;33m)\u001b[0m\u001b[1;33m,\u001b[0m\u001b[1;33m\u001b[0m\u001b[1;33m\u001b[0m\u001b[0m\n\u001b[0;32m    328\u001b[0m                     \u001b[0mFutureWarning\u001b[0m\u001b[1;33m,\u001b[0m\u001b[1;33m\u001b[0m\u001b[1;33m\u001b[0m\u001b[0m\n\u001b[0;32m    329\u001b[0m                     \u001b[0mstacklevel\u001b[0m\u001b[1;33m=\u001b[0m\u001b[0mfind_stack_level\u001b[0m\u001b[1;33m(\u001b[0m\u001b[1;33m)\u001b[0m\u001b[1;33m,\u001b[0m\u001b[1;33m\u001b[0m\u001b[1;33m\u001b[0m\u001b[0m\n\u001b[0;32m    330\u001b[0m                 )\n\u001b[1;32m--> 331\u001b[1;33m             \u001b[1;32mreturn\u001b[0m \u001b[0mfunc\u001b[0m\u001b[1;33m(\u001b[0m\u001b[1;33m*\u001b[0m\u001b[0margs\u001b[0m\u001b[1;33m,\u001b[0m \u001b[1;33m**\u001b[0m\u001b[0mkwargs\u001b[0m\u001b[1;33m)\u001b[0m\u001b[1;33m\u001b[0m\u001b[1;33m\u001b[0m\u001b[0m\n\u001b[0m",
      "\u001b[1;32mc:\\Users\\james\\AppData\\Local\\Programs\\Python\\Python311\\Lib\\site-packages\\pandas\\core\\generic.py\u001b[0m in \u001b[0;36m?\u001b[1;34m(self, labels, axis, index, columns, level, inplace, errors)\u001b[0m\n\u001b[0;32m   4487\u001b[0m         \u001b[0minplace\u001b[0m \u001b[1;33m=\u001b[0m \u001b[0mvalidate_bool_kwarg\u001b[0m\u001b[1;33m(\u001b[0m\u001b[0minplace\u001b[0m\u001b[1;33m,\u001b[0m \u001b[1;34m\"inplace\"\u001b[0m\u001b[1;33m)\u001b[0m\u001b[1;33m\u001b[0m\u001b[1;33m\u001b[0m\u001b[0m\n\u001b[0;32m   4488\u001b[0m \u001b[1;33m\u001b[0m\u001b[0m\n\u001b[0;32m   4489\u001b[0m         \u001b[1;32mif\u001b[0m \u001b[0mlabels\u001b[0m \u001b[1;32mis\u001b[0m \u001b[1;32mnot\u001b[0m \u001b[1;32mNone\u001b[0m\u001b[1;33m:\u001b[0m\u001b[1;33m\u001b[0m\u001b[1;33m\u001b[0m\u001b[0m\n\u001b[0;32m   4490\u001b[0m             \u001b[1;32mif\u001b[0m \u001b[0mindex\u001b[0m \u001b[1;32mis\u001b[0m \u001b[1;32mnot\u001b[0m \u001b[1;32mNone\u001b[0m \u001b[1;32mor\u001b[0m \u001b[0mcolumns\u001b[0m \u001b[1;32mis\u001b[0m \u001b[1;32mnot\u001b[0m \u001b[1;32mNone\u001b[0m\u001b[1;33m:\u001b[0m\u001b[1;33m\u001b[0m\u001b[1;33m\u001b[0m\u001b[0m\n\u001b[1;32m-> 4491\u001b[1;33m                 \u001b[1;32mraise\u001b[0m \u001b[0mValueError\u001b[0m\u001b[1;33m(\u001b[0m\u001b[1;34m\"Cannot specify both 'labels' and 'index'/'columns'\"\u001b[0m\u001b[1;33m)\u001b[0m\u001b[1;33m\u001b[0m\u001b[1;33m\u001b[0m\u001b[0m\n\u001b[0m\u001b[0;32m   4492\u001b[0m             \u001b[0maxis_name\u001b[0m \u001b[1;33m=\u001b[0m \u001b[0mself\u001b[0m\u001b[1;33m.\u001b[0m\u001b[0m_get_axis_name\u001b[0m\u001b[1;33m(\u001b[0m\u001b[0maxis\u001b[0m\u001b[1;33m)\u001b[0m\u001b[1;33m\u001b[0m\u001b[1;33m\u001b[0m\u001b[0m\n\u001b[0;32m   4493\u001b[0m             \u001b[0maxes\u001b[0m \u001b[1;33m=\u001b[0m \u001b[1;33m{\u001b[0m\u001b[0maxis_name\u001b[0m\u001b[1;33m:\u001b[0m \u001b[0mlabels\u001b[0m\u001b[1;33m}\u001b[0m\u001b[1;33m\u001b[0m\u001b[1;33m\u001b[0m\u001b[0m\n\u001b[0;32m   4494\u001b[0m         \u001b[1;32melif\u001b[0m \u001b[0mindex\u001b[0m \u001b[1;32mis\u001b[0m \u001b[1;32mnot\u001b[0m \u001b[1;32mNone\u001b[0m \u001b[1;32mor\u001b[0m \u001b[0mcolumns\u001b[0m \u001b[1;32mis\u001b[0m \u001b[1;32mnot\u001b[0m \u001b[1;32mNone\u001b[0m\u001b[1;33m:\u001b[0m\u001b[1;33m\u001b[0m\u001b[1;33m\u001b[0m\u001b[0m\n",
      "\u001b[1;31mValueError\u001b[0m: Cannot specify both 'labels' and 'index'/'columns'"
     ]
    }
   ],
   "source": [
    "from db_utils import RDSDatabaseConnector\n",
    "RDS = RDSDatabaseConnector()\n",
    "#var2 = RDS.initialise_engine_and_extract_data()\n",
    "#var3 = RDS.save_dataframe_to_csv()\n",
    "df = RDS.load_dataframe_from_csv()\n",
    "\n",
    "column_names = []\n",
    "for i in df:\n",
    "    column_names.append(i)\n",
    "print(column_names)\n",
    "\n",
    "from db_utils import DataTransform\n",
    "DT = DataTransform()\n",
    "symbols = str(input('separate by spaces which columns are to be dropped: ')).split()\n",
    "df = DT.excess_symbol_removal(df, symbols)\n",
    "\n",
    "list_of_to_categorical = ['term','grade','sub_grade','home_ownership','verification_status','loan_status','payment_plan','purpose','delinq_2yrs','application_type']\n",
    "df = DT.to_categorical(df, list_of_to_categorical)\n",
    "\n",
    "list_of_to_boolean = ['policy_code']\n",
    "df = DT.to_boolean(df, list_of_to_boolean)\n",
    "\n",
    "list_of_to_float = []\n",
    "df = DT.to_float(df, list_of_to_float)\n",
    "\n",
    "list_of_to_int = []\n",
    "df = DT.to_int(df, list_of_to_int)\n",
    "\n",
    "dates_to_convert = ['issue_date','earliest_credit_line','last_payment_date','next_payment_date','last_credit_pull_date']\n",
    "df = DT.convert_dates_to_proper_format(df, dates_to_convert)\n",
    "\n",
    "from db_utils import DataFrameInfo\n",
    "DFI = DataFrameInfo()\n",
    "df = DFI.describe_all_columns_to_check_their_datatypes(df)\n",
    "\n",
    "df = DFI.extract_statistical_values_median_stddev_mean_from_cols_and_dataframe(df)\n",
    "\n",
    "df = DFI.count_distinct_values_in_categorical_columns(df)\n",
    "\n",
    "df = DFI.print_out_the_shape_of_the_dataframe(df)\n",
    "\n",
    "df = DFI.generate_a_count_slash_percentage_count_of_NULL_values_in_each_column(df)\n",
    "\n",
    "from db_utils import amount_of_nulls_and_column_drop\n",
    "df = amount_of_nulls_and_column_drop(df)"
   ]
  },
  {
   "cell_type": "markdown",
   "metadata": {},
   "source": [
    "<h3>(0) - Load the column names</h3>"
   ]
  },
  {
   "cell_type": "markdown",
   "metadata": {},
   "source": [
    "<h3>(1) - Removal of symbols </h3>"
   ]
  },
  {
   "cell_type": "markdown",
   "metadata": {},
   "source": [
    "<h3>(2) - Numerical to Categorical</h3>"
   ]
  },
  {
   "cell_type": "markdown",
   "metadata": {},
   "source": [
    "<h3>(3) - Numerical to Boolean</h3>"
   ]
  },
  {
   "cell_type": "markdown",
   "metadata": {},
   "source": [
    "<h3>(4) - Categorical to Boolean</h3>"
   ]
  },
  {
   "cell_type": "markdown",
   "metadata": {},
   "source": [
    "<h3>(5) - int to float</h3>"
   ]
  },
  {
   "cell_type": "markdown",
   "metadata": {},
   "source": [
    "<h3>(6) - float to int</h3>"
   ]
  },
  {
   "cell_type": "markdown",
   "metadata": {},
   "source": [
    "<h3>(7) - Convert Dates to Proper Format</h3>"
   ]
  },
  {
   "cell_type": "markdown",
   "metadata": {},
   "source": [
    "<h3>(8) - Describe all columns to check their datatypes</h3>"
   ]
  },
  {
   "cell_type": "markdown",
   "metadata": {},
   "source": [
    "<h3>(9) - extract statistical values median stddev mean from cols and dataframe</h3>"
   ]
  },
  {
   "cell_type": "markdown",
   "metadata": {},
   "source": [
    "<h3>(10) - Count distinct values in categorical columns</h3>"
   ]
  },
  {
   "cell_type": "markdown",
   "metadata": {},
   "source": [
    "<h3>(11) - print out the shape of the dataframe</h3>"
   ]
  },
  {
   "cell_type": "markdown",
   "metadata": {},
   "source": [
    "<h3>(12) - Generate a count slash percentage count of null values in each column</h3>"
   ]
  },
  {
   "cell_type": "markdown",
   "metadata": {},
   "source": [
    "<h3>(13) - </h3>"
   ]
  }
 ],
 "metadata": {
  "kernelspec": {
   "display_name": "Python 3",
   "language": "python",
   "name": "python3"
  },
  "language_info": {
   "codemirror_mode": {
    "name": "ipython",
    "version": 3
   },
   "file_extension": ".py",
   "mimetype": "text/x-python",
   "name": "python",
   "nbconvert_exporter": "python",
   "pygments_lexer": "ipython3",
   "version": "3.11.0"
  }
 },
 "nbformat": 4,
 "nbformat_minor": 2
}
