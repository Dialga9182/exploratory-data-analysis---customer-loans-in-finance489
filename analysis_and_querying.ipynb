{
 "cells": [
  {
   "cell_type": "markdown",
   "metadata": {},
   "source": [
    "# Analysis and Querying:"
   ]
  },
  {
   "cell_type": "markdown",
   "metadata": {},
   "source": [
    "<h2>(0) - Load the column names</h2>"
   ]
  },
  {
   "cell_type": "code",
   "execution_count": null,
   "metadata": {},
   "outputs": [],
   "source": [
    "\n",
    "#(0) - Load the column names\n",
    "from db_utils import RDSDatabaseConnector\n",
    "from db_utils import DataTransform\n",
    "RDS = RDSDatabaseConnector()\n",
    "column_names = RDS.load_dataframe_from_csv()"
   ]
  },
  {
   "cell_type": "markdown",
   "metadata": {},
   "source": [
    "<h2>(1) - Removal of symbols </h2>"
   ]
  },
  {
   "cell_type": "code",
   "execution_count": null,
   "metadata": {},
   "outputs": [],
   "source": [
    "#(1) - Remove unwanted symbols\n",
    "\n",
    "DT = DataTransform() #creates an instance of DataTransform class\n",
    "enough_removed = input(\"Enough symbols removed?: y/n\")\n",
    "while enough_removed != 'y':#a while loop so that the user can drop more columns ad infinitum\n",
    "    removal = DT.excess_symbol_removal()\n",
    "    enough_removed = input(\"Enough removed?: y/n\")\n",
    "print(DT.df) #displays remaining dataframe"
   ]
  },
  {
   "cell_type": "markdown",
   "metadata": {},
   "source": [
    "<h2>(2) - Numerical to Categorical</h2>"
   ]
  },
  {
   "cell_type": "code",
   "execution_count": null,
   "metadata": {},
   "outputs": [],
   "source": [
    "#(2) - Numerical to Categorical\n",
    "a = DT.numerical_to_categorical() #all cells above must be run before this one or else it will still have 'id' in it\n",
    "DT.df.info(verbose=True)\n",
    "#print(dict(DT.df.info(verbose=True)))"
   ]
  }
 ],
 "metadata": {
  "kernelspec": {
   "display_name": "Python 3",
   "language": "python",
   "name": "python3"
  },
  "language_info": {
   "codemirror_mode": {
    "name": "ipython",
    "version": 3
   },
   "file_extension": ".py",
   "mimetype": "text/x-python",
   "name": "python",
   "nbconvert_exporter": "python",
   "pygments_lexer": "ipython3",
   "version": "3.11.0"
  }
 },
 "nbformat": 4,
 "nbformat_minor": 2
}
