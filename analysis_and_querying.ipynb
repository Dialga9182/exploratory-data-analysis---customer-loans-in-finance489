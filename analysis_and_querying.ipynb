{
 "cells": [
  {
   "cell_type": "markdown",
   "metadata": {},
   "source": [
    "# Analysis and Querying:"
   ]
  },
  {
   "cell_type": "markdown",
   "metadata": {},
   "source": [
    "<h3>(0) - Load the column names</h3>"
   ]
  },
  {
   "cell_type": "code",
   "execution_count": 1,
   "metadata": {},
   "outputs": [
    {
     "ename": "TypeError",
     "evalue": "RDSDatabaseConnector.load_dataframe_from_csv() missing 1 required positional argument: 'self'",
     "output_type": "error",
     "traceback": [
      "\u001b[1;31m---------------------------------------------------------------------------\u001b[0m",
      "\u001b[1;31mTypeError\u001b[0m                                 Traceback (most recent call last)",
      "Cell \u001b[1;32mIn[1], line 3\u001b[0m\n\u001b[0;32m      1\u001b[0m \u001b[38;5;66;03m#(0) - Load the column names\u001b[39;00m\n\u001b[1;32m----> 3\u001b[0m \u001b[38;5;28;01mfrom\u001b[39;00m \u001b[38;5;21;01mdb_utils\u001b[39;00m \u001b[38;5;28;01mimport\u001b[39;00m RDSDatabaseConnector\n\u001b[0;32m      4\u001b[0m \u001b[38;5;28;01mfrom\u001b[39;00m \u001b[38;5;21;01mdb_utils\u001b[39;00m \u001b[38;5;28;01mimport\u001b[39;00m DataTransform\n\u001b[0;32m      5\u001b[0m RDS \u001b[38;5;241m=\u001b[39m RDSDatabaseConnector()\n",
      "File \u001b[1;32mc:\\Users\\james\\Documents\\GitHub\\exploratory-data-analysis---customer-loans-in-finance489\\db_utils.py:103\u001b[0m\n\u001b[0;32m    100\u001b[0m         \u001b[38;5;28mprint\u001b[39m(column_names)\n\u001b[0;32m    101\u001b[0m         \u001b[38;5;28;01mreturn\u001b[39;00m df\n\u001b[1;32m--> 103\u001b[0m \u001b[38;5;28;43;01mclass\u001b[39;49;00m\u001b[43m \u001b[49m\u001b[38;5;21;43;01mDataTransform\u001b[39;49;00m\u001b[43m:\u001b[49m\n\u001b[0;32m    104\u001b[0m \u001b[38;5;250;43m    \u001b[39;49m\u001b[38;5;124;43;03m'''\u001b[39;49;00m\n\u001b[0;32m    105\u001b[0m \u001b[38;5;124;43;03m    This class holds methods which, when called, will\u001b[39;49;00m\n\u001b[0;32m    106\u001b[0m \u001b[38;5;124;43;03m    transform the formats of certain columns in a table.\u001b[39;49;00m\n\u001b[1;32m   (...)\u001b[0m\n\u001b[0;32m    141\u001b[0m \n\u001b[0;32m    142\u001b[0m \u001b[38;5;124;43;03m    '''\u001b[39;49;00m\n\u001b[0;32m    143\u001b[0m \u001b[43m    \u001b[49m\u001b[38;5;28;43;01mdef\u001b[39;49;00m\u001b[43m \u001b[49m\u001b[38;5;21;43m__init__\u001b[39;49m\u001b[43m(\u001b[49m\u001b[38;5;28;43mself\u001b[39;49m\u001b[43m,\u001b[49m\u001b[43m \u001b[49m\u001b[43mdf\u001b[49m\u001b[43m \u001b[49m\u001b[38;5;241;43m=\u001b[39;49m\u001b[43m \u001b[49m\u001b[43mRDSDatabaseConnector\u001b[49m\u001b[38;5;241;43m.\u001b[39;49m\u001b[43mload_dataframe_from_csv\u001b[49m\u001b[43m(\u001b[49m\u001b[43m)\u001b[49m\u001b[43m)\u001b[49m\u001b[43m:\u001b[49m\n",
      "File \u001b[1;32mc:\\Users\\james\\Documents\\GitHub\\exploratory-data-analysis---customer-loans-in-finance489\\db_utils.py:143\u001b[0m, in \u001b[0;36mDataTransform\u001b[1;34m()\u001b[0m\n\u001b[0;32m    103\u001b[0m \u001b[38;5;28;01mclass\u001b[39;00m \u001b[38;5;21;01mDataTransform\u001b[39;00m:\n\u001b[0;32m    104\u001b[0m \u001b[38;5;250m    \u001b[39m\u001b[38;5;124;03m'''\u001b[39;00m\n\u001b[0;32m    105\u001b[0m \u001b[38;5;124;03m    This class holds methods which, when called, will\u001b[39;00m\n\u001b[0;32m    106\u001b[0m \u001b[38;5;124;03m    transform the formats of certain columns in a table.\u001b[39;00m\n\u001b[1;32m   (...)\u001b[0m\n\u001b[0;32m    141\u001b[0m \n\u001b[0;32m    142\u001b[0m \u001b[38;5;124;03m    '''\u001b[39;00m\n\u001b[1;32m--> 143\u001b[0m     \u001b[38;5;28;01mdef\u001b[39;00m \u001b[38;5;21m__init__\u001b[39m(\u001b[38;5;28mself\u001b[39m, df \u001b[38;5;241m=\u001b[39m \u001b[43mRDSDatabaseConnector\u001b[49m\u001b[38;5;241;43m.\u001b[39;49m\u001b[43mload_dataframe_from_csv\u001b[49m\u001b[43m(\u001b[49m\u001b[43m)\u001b[49m):\n\u001b[0;32m    144\u001b[0m \u001b[38;5;250m        \u001b[39m\u001b[38;5;124;03m'''\u001b[39;00m\n\u001b[0;32m    145\u001b[0m \u001b[38;5;124;03m        Initialiser.\u001b[39;00m\n\u001b[0;32m    146\u001b[0m \u001b[38;5;124;03m        \u001b[39;00m\n\u001b[1;32m   (...)\u001b[0m\n\u001b[0;32m    149\u001b[0m \u001b[38;5;124;03m            the data.\u001b[39;00m\n\u001b[0;32m    150\u001b[0m \u001b[38;5;124;03m        '''\u001b[39;00m\n\u001b[0;32m    151\u001b[0m         \u001b[38;5;28mself\u001b[39m\u001b[38;5;241m.\u001b[39mdf \u001b[38;5;241m=\u001b[39m df\n",
      "\u001b[1;31mTypeError\u001b[0m: RDSDatabaseConnector.load_dataframe_from_csv() missing 1 required positional argument: 'self'"
     ]
    }
   ],
   "source": [
    "#(0) - Load the column names\n",
    "\n",
    "from db_utils import RDSDatabaseConnector\n",
    "from db_utils import DataTransform\n",
    "RDS = RDSDatabaseConnector()\n",
    "column_names = RDS.load_dataframe_from_csv()"
   ]
  },
  {
   "cell_type": "markdown",
   "metadata": {},
   "source": [
    "<h3>(1) - Removal of symbols </h3>"
   ]
  },
  {
   "cell_type": "code",
   "execution_count": null,
   "metadata": {},
   "outputs": [],
   "source": [
    "#(1) - Remove unwanted symbols\n",
    "\n",
    "DT = DataTransform() #creates an instance of DataTransform class\n",
    "print(DT.df.isnull().count())\n",
    "enough_removed = input(\"Enough symbols removed?: y/n\")\n",
    "while enough_removed != 'y':#a while loop so that the user can drop more columns ad infinitum\n",
    "    removal = DT.excess_symbol_removal()\n",
    "    enough_removed = input(\"Enough removed?: y/n\")\n",
    "print(DT.df) #displays remaining dataframe"
   ]
  },
  {
   "cell_type": "markdown",
   "metadata": {},
   "source": [
    "<h3>(2) - Numerical to Categorical</h3>"
   ]
  },
  {
   "cell_type": "code",
   "execution_count": null,
   "metadata": {},
   "outputs": [],
   "source": [
    "#(2) - Numerical to Categorical\n",
    "\n",
    "to_categorical = DT.to_categorical() #all cells above must be run before this one or else it will still have 'id' in it\n",
    "DT.df.info(verbose=True)\n",
    "#TODO: Numerical is more general, see class method."
   ]
  },
  {
   "cell_type": "markdown",
   "metadata": {},
   "source": [
    "<h3>(3) - Numerical to Boolean</h3>"
   ]
  },
  {
   "cell_type": "code",
   "execution_count": null,
   "metadata": {},
   "outputs": [],
   "source": [
    "#(3) - Numerical to Boolean\n",
    "\n",
    "for i in DT.df['policy_code']:\n",
    "    if i != 1:\n",
    "        print(i)\n",
    "    else:\n",
    "        pass\n",
    "#seeing as though there is only one policy code, i.e., '1'\n",
    "#there is no need to convert any of the columns to boolean\n",
    "#as this was the only column I thought might even need\n",
    "#converting to begin with..."
   ]
  },
  {
   "cell_type": "markdown",
   "metadata": {},
   "source": [
    "<h3>(4) - Categorical to Boolean</h3>"
   ]
  },
  {
   "cell_type": "code",
   "execution_count": null,
   "metadata": {},
   "outputs": [],
   "source": [
    "#(4) - Categorical to Boolean\n",
    "\n",
    "categorical_to_boolean = DT.categorical_to_boolean()"
   ]
  },
  {
   "cell_type": "markdown",
   "metadata": {},
   "source": [
    "<h3>(5) - int to float</h3>"
   ]
  },
  {
   "cell_type": "code",
   "execution_count": null,
   "metadata": {},
   "outputs": [],
   "source": [
    "#(5) - int to float\n",
    "\n",
    "int_to_float = DT.int_to_float()"
   ]
  },
  {
   "cell_type": "markdown",
   "metadata": {},
   "source": [
    "<h3>(6) - float to int</h3>"
   ]
  },
  {
   "cell_type": "code",
   "execution_count": null,
   "metadata": {},
   "outputs": [],
   "source": [
    "#(6) - float to int\n",
    "\n",
    "float_to_int = DT.float_to_int()"
   ]
  },
  {
   "cell_type": "markdown",
   "metadata": {},
   "source": [
    "<h3>(7) - Convert Dates to Proper Format</h3>"
   ]
  },
  {
   "cell_type": "code",
   "execution_count": null,
   "metadata": {},
   "outputs": [],
   "source": [
    "#(7) - Convert Dates to proper format\n",
    "\n",
    "convert_dates_to_proper_format = DT.convert_dates_to_proper_format()\n",
    "DT.df"
   ]
  },
  {
   "cell_type": "markdown",
   "metadata": {},
   "source": [
    "<h3>(8) - Describe all columns to check their datatypes</h3>"
   ]
  },
  {
   "cell_type": "code",
   "execution_count": null,
   "metadata": {},
   "outputs": [],
   "source": [
    "#(8) - Describe all columns to check their datatypes\n",
    "\n",
    "from db_utils import DataFrameInfo\n",
    "DFI = DataFrameInfo(DT.df)\n",
    "describe_columns = DFI.describe_all_columns_to_check_their_datatypes()"
   ]
  },
  {
   "cell_type": "markdown",
   "metadata": {},
   "source": [
    "<h3>(9) - extract statistical values median stddev mean from cols and dataframe</h3>"
   ]
  },
  {
   "cell_type": "code",
   "execution_count": null,
   "metadata": {},
   "outputs": [],
   "source": [
    "#(9) - extract statistical values median stddev mean from cols and dataframe\n",
    "\n",
    "extract_stats = DFI.extract_statistical_values_median_stddev_mean_from_cols_and_dataframe()"
   ]
  },
  {
   "cell_type": "markdown",
   "metadata": {},
   "source": [
    "<h3>(10) - Count distinct values in categorical columns</h3>"
   ]
  },
  {
   "cell_type": "code",
   "execution_count": null,
   "metadata": {},
   "outputs": [],
   "source": [
    "#(10) - Count distinct values in categorical columns\n",
    "\n",
    "count_distinct_values = DFI.count_distinct_values_in_categorical_columns()"
   ]
  },
  {
   "cell_type": "markdown",
   "metadata": {},
   "source": [
    "<h3>(11) - print out the shape of the dataframe</h3>"
   ]
  },
  {
   "cell_type": "code",
   "execution_count": null,
   "metadata": {},
   "outputs": [],
   "source": [
    "#(11) - print out the shape of the dataframe\n",
    "\n",
    "shape = DFI.print_out_the_shape_of_the_dataframe()"
   ]
  },
  {
   "cell_type": "markdown",
   "metadata": {},
   "source": [
    "<h3>(12) - Generate a count slash percentage count of null values in each column</h3>"
   ]
  },
  {
   "cell_type": "code",
   "execution_count": null,
   "metadata": {},
   "outputs": [],
   "source": [
    "#(12) - Generate a count slash percentage count of null values in each column\n",
    "\n",
    "count = DFI.generate_a_count_slash_percentage_count_of_NULL_values_in_each_column()"
   ]
  },
  {
   "cell_type": "markdown",
   "metadata": {},
   "source": [
    "<h3>(13) - </h3>"
   ]
  },
  {
   "cell_type": "code",
   "execution_count": null,
   "metadata": {},
   "outputs": [],
   "source": [
    "from db_utils import amount_of_nulls_and_column_drop\n",
    "\n",
    "a = amount_of_nulls_and_column_drop()"
   ]
  }
 ],
 "metadata": {
  "kernelspec": {
   "display_name": "Python 3",
   "language": "python",
   "name": "python3"
  },
  "language_info": {
   "codemirror_mode": {
    "name": "ipython",
    "version": 3
   },
   "file_extension": ".py",
   "mimetype": "text/x-python",
   "name": "python",
   "nbconvert_exporter": "python",
   "pygments_lexer": "ipython3",
   "version": "3.11.0"
  }
 },
 "nbformat": 4,
 "nbformat_minor": 2
}
