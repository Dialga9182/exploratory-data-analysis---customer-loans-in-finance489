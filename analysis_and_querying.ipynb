{
 "cells": [
  {
   "cell_type": "markdown",
   "metadata": {},
   "source": [
    "# Analysis and Querying:"
   ]
  },
  {
   "cell_type": "code",
   "execution_count": null,
   "metadata": {},
   "outputs": [],
   "source": [
    "from db_utils import RDSDatabaseConnector\n",
    "RDS = RDSDatabaseConnector()\n",
    "#var2 = RDS.initialise_engine_and_extract_data()\n",
    "#var3 = RDS.save_dataframe_to_csv()\n",
    "df = RDS.load_dataframe_from_csv()\n",
    "\n",
    "column_names = []\n",
    "for i in df:\n",
    "    column_names.append(i)\n",
    "print(column_names)\n",
    "\n",
    "from db_utils import DataTransform\n",
    "DT = DataTransform()\n",
    "symbols = str(input('separate by spaces which columns are to be dropped: ')).split()\n",
    "df = DT.excess_symbol_removal(df, symbols)\n",
    "\n",
    "list_of_to_categorical = ['term','grade','sub_grade','home_ownership','verification_status','loan_status','payment_plan','purpose','delinq_2yrs','application_type']\n",
    "df = DT.to_categorical(df, list_of_to_categorical)\n",
    "\n",
    "list_of_to_boolean = ['policy_code']\n",
    "df = DT.to_boolean(df, list_of_to_boolean)\n",
    "\n",
    "list_of_to_float = []\n",
    "df = DT.to_float(df, list_of_to_float)\n",
    "\n",
    "list_of_to_int = []\n",
    "df = DT.to_int(df, list_of_to_int)\n",
    "\n",
    "dates_to_convert = ['issue_date','earliest_credit_line','last_payment_date','next_payment_date','last_credit_pull_date']\n",
    "df = DT.convert_dates_to_proper_format(df, dates_to_convert)\n",
    "\n",
    "from db_utils import DataFrameInfo\n",
    "DFI = DataFrameInfo()\n",
    "df = DFI.describe_all_columns_to_check_their_datatypes(df)\n",
    "\n",
    "df = DFI.extract_statistical_values_median_stddev_mean_from_cols_and_dataframe(df)\n",
    "\n",
    "df = DFI.count_distinct_values_in_categorical_columns(df)\n",
    "\n",
    "df = DFI.print_out_the_shape_of_the_dataframe(df)\n",
    "\n",
    "df = DFI.generate_a_count_slash_percentage_count_of_NULL_values_in_each_column(df)"
   ]
  },
  {
   "cell_type": "markdown",
   "metadata": {},
   "source": [
    "<h3>(0) - Load the column names</h3>"
   ]
  },
  {
   "cell_type": "markdown",
   "metadata": {},
   "source": [
    "<h3>(1) - Removal of symbols </h3>"
   ]
  },
  {
   "cell_type": "markdown",
   "metadata": {},
   "source": [
    "<h3>(2) - Numerical to Categorical</h3>"
   ]
  },
  {
   "cell_type": "markdown",
   "metadata": {},
   "source": [
    "<h3>(3) - Numerical to Boolean</h3>"
   ]
  },
  {
   "cell_type": "markdown",
   "metadata": {},
   "source": [
    "<h3>(4) - Categorical to Boolean</h3>"
   ]
  },
  {
   "cell_type": "markdown",
   "metadata": {},
   "source": [
    "<h3>(5) - int to float</h3>"
   ]
  },
  {
   "cell_type": "markdown",
   "metadata": {},
   "source": [
    "<h3>(6) - float to int</h3>"
   ]
  },
  {
   "cell_type": "markdown",
   "metadata": {},
   "source": [
    "<h3>(7) - Convert Dates to Proper Format</h3>"
   ]
  },
  {
   "cell_type": "markdown",
   "metadata": {},
   "source": [
    "<h3>(8) - Describe all columns to check their datatypes</h3>"
   ]
  },
  {
   "cell_type": "markdown",
   "metadata": {},
   "source": [
    "<h3>(9) - extract statistical values median stddev mean from cols and dataframe</h3>"
   ]
  },
  {
   "cell_type": "markdown",
   "metadata": {},
   "source": [
    "<h3>(10) - Count distinct values in categorical columns</h3>"
   ]
  },
  {
   "cell_type": "markdown",
   "metadata": {},
   "source": [
    "<h3>(11) - print out the shape of the dataframe</h3>"
   ]
  },
  {
   "cell_type": "markdown",
   "metadata": {},
   "source": [
    "<h3>(12) - Generate a count slash percentage count of null values in each column</h3>"
   ]
  },
  {
   "cell_type": "markdown",
   "metadata": {},
   "source": [
    "<h3>(13) - </h3>"
   ]
  }
 ],
 "metadata": {
  "kernelspec": {
   "display_name": "Python 3",
   "language": "python",
   "name": "python3"
  },
  "language_info": {
   "codemirror_mode": {
    "name": "ipython",
    "version": 3
   },
   "file_extension": ".py",
   "mimetype": "text/x-python",
   "name": "python",
   "nbconvert_exporter": "python",
   "pygments_lexer": "ipython3",
   "version": "3.11.0"
  }
 },
 "nbformat": 4,
 "nbformat_minor": 2
}
