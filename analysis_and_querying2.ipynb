{
 "cells": [
  {
   "cell_type": "code",
   "execution_count": 1,
   "metadata": {},
   "outputs": [
    {
     "data": {
      "text/plain": [
       "\"describe\\nprint(df.describe()[['loan_amount']])\\nprint(df.describe()[['funded_amount']])\\nprint(df.describe()[['funded_amount_inv']])\\nprint(df.describe()[['int_rate']])\\nprint(df.describe()[['instalment']])\\n#print(df.describe()[['grade']])\\n#print(df.describe()[['sub_grade']])\\n#print(df.describe()[['employment_length']])\\n#print(df.describe()[['home_ownership']])\\nprint(df.describe()[['annual_inc']])\\n#print(df.describe()[['verification_status']])\\n#print(df.describe()[['issue_date']])\\n#print(df.describe()[['loan_status']])\\n#print(df.describe()[['payment_plan']])\\n#print(df.describe()[['purpose']])\\nprint(df.describe()[['dti']])\\nprint(df.describe()[['delinq_2yrs']])\\n#print(df.describe()[['earliest_credit_line']])\\nprint(df.describe()[['inq_last_6mths']])\\nprint(df.describe()[['open_accounts']])\\nprint(df.describe()[['total_accounts']])\\nprint(df.describe()[['out_prncp']])\\nprint(df.describe()[['out_prncp_inv']])['loan_amount']\\n\""
      ]
     },
     "execution_count": 1,
     "metadata": {},
     "output_type": "execute_result"
    }
   ],
   "source": [
    "import pandas as pd\n",
    "from db_utils import Plotter, DataTransform\n",
    "from matplotlib import pyplot as plt\n",
    "df = pd.read_csv('data2.csv')\n",
    "\n",
    "#PL = Plotter()\n",
    "#DT = DataTransform()\n",
    "\n",
    "#df = DT.excess_symbol_removal(df, symbols = ['member_id', 'term'])\n",
    "'''\n",
    "#df = PL.generate_a_plot_for_nulls(df)\n",
    "\n",
    "#df = PL.generate_a_plot_for_nulls(df)\n",
    "#print(df.nunique())\n",
    "\n",
    "#make a scatter plot\n",
    "#print(df.describe())\n",
    "\n",
    "#for i in df:\n",
    "#    print(df.describe()[[i]])\n",
    "\n",
    "#plt.scatter(df.index, df['funded_amount'])\n",
    "#plt.scatter(df.index, df['funded_amount'])\n",
    "#plt.scatter(df.index, df['funded_amount'])\n",
    "#plt.scatter(df.index, df['funded_amount'])\n",
    "#plt.scatter(df.index, df['funded_amount'])\n",
    "'''\n",
    "'''describe\n",
    "print(df.describe()[['loan_amount']])\n",
    "print(df.describe()[['funded_amount']])\n",
    "print(df.describe()[['funded_amount_inv']])\n",
    "print(df.describe()[['int_rate']])\n",
    "print(df.describe()[['instalment']])\n",
    "#print(df.describe()[['grade']])\n",
    "#print(df.describe()[['sub_grade']])\n",
    "#print(df.describe()[['employment_length']])\n",
    "#print(df.describe()[['home_ownership']])\n",
    "print(df.describe()[['annual_inc']])\n",
    "#print(df.describe()[['verification_status']])\n",
    "#print(df.describe()[['issue_date']])\n",
    "#print(df.describe()[['loan_status']])\n",
    "#print(df.describe()[['payment_plan']])\n",
    "#print(df.describe()[['purpose']])\n",
    "print(df.describe()[['dti']])\n",
    "print(df.describe()[['delinq_2yrs']])\n",
    "#print(df.describe()[['earliest_credit_line']])\n",
    "print(df.describe()[['inq_last_6mths']])\n",
    "print(df.describe()[['open_accounts']])\n",
    "print(df.describe()[['total_accounts']])\n",
    "print(df.describe()[['out_prncp']])\n",
    "print(df.describe()[['out_prncp_inv']])['loan_amount']\n",
    "'''\n",
    "#print(df.describe()[['annual_inc']])\n",
    "#video z-score and notebook z-score are formulated differently, \n",
    "#print(1)\n"
   ]
  },
  {
   "cell_type": "code",
   "execution_count": 2,
   "metadata": {},
   "outputs": [
    {
     "ename": "AssertionError",
     "evalue": "2",
     "output_type": "error",
     "traceback": [
      "\u001b[1;31m---------------------------------------------------------------------------\u001b[0m",
      "\u001b[1;31mAssertionError\u001b[0m                            Traceback (most recent call last)",
      "Cell \u001b[1;32mIn[2], line 16\u001b[0m\n\u001b[0;32m     14\u001b[0m boxplot1\n\u001b[0;32m     15\u001b[0m boxplot2 \u001b[38;5;241m=\u001b[39m df\u001b[38;5;241m.\u001b[39mboxplot(column\u001b[38;5;241m=\u001b[39mcolumns2,vert \u001b[38;5;241m=\u001b[39m \u001b[38;5;28;01mFalse\u001b[39;00m)\n\u001b[1;32m---> 16\u001b[0m boxplot3 \u001b[38;5;241m=\u001b[39m \u001b[43mdf\u001b[49m\u001b[38;5;241;43m.\u001b[39;49m\u001b[43mboxplot\u001b[49m\u001b[43m(\u001b[49m\u001b[43mcolumn\u001b[49m\u001b[38;5;241;43m=\u001b[39;49m\u001b[43mcolumns3\u001b[49m\u001b[43m,\u001b[49m\u001b[43mvert\u001b[49m\u001b[43m \u001b[49m\u001b[38;5;241;43m=\u001b[39;49m\u001b[43m \u001b[49m\u001b[38;5;28;43;01mFalse\u001b[39;49;00m\u001b[43m)\u001b[49m\n\u001b[0;32m     17\u001b[0m boxplot4 \u001b[38;5;241m=\u001b[39m df\u001b[38;5;241m.\u001b[39mboxplot(column\u001b[38;5;241m=\u001b[39mcolumns4,vert \u001b[38;5;241m=\u001b[39m \u001b[38;5;28;01mFalse\u001b[39;00m)\n\u001b[0;32m     18\u001b[0m boxplot5 \u001b[38;5;241m=\u001b[39m df\u001b[38;5;241m.\u001b[39mboxplot(column\u001b[38;5;241m=\u001b[39mcolumns5,vert \u001b[38;5;241m=\u001b[39m \u001b[38;5;28;01mFalse\u001b[39;00m)\n",
      "File \u001b[1;32mc:\\Users\\james\\miniconda3\\envs\\my_env\\Lib\\site-packages\\pandas\\plotting\\_core.py:533\u001b[0m, in \u001b[0;36mboxplot_frame\u001b[1;34m(self, column, by, ax, fontsize, rot, grid, figsize, layout, return_type, backend, **kwargs)\u001b[0m\n\u001b[0;32m    516\u001b[0m \u001b[38;5;129m@Substitution\u001b[39m(data\u001b[38;5;241m=\u001b[39m\u001b[38;5;124m\"\u001b[39m\u001b[38;5;124m\"\u001b[39m, backend\u001b[38;5;241m=\u001b[39m_backend_doc)\n\u001b[0;32m    517\u001b[0m \u001b[38;5;129m@Appender\u001b[39m(_boxplot_doc)\n\u001b[0;32m    518\u001b[0m \u001b[38;5;28;01mdef\u001b[39;00m \u001b[38;5;21mboxplot_frame\u001b[39m(\n\u001b[1;32m   (...)\u001b[0m\n\u001b[0;32m    530\u001b[0m     \u001b[38;5;241m*\u001b[39m\u001b[38;5;241m*\u001b[39mkwargs,\n\u001b[0;32m    531\u001b[0m ):\n\u001b[0;32m    532\u001b[0m     plot_backend \u001b[38;5;241m=\u001b[39m _get_plot_backend(backend)\n\u001b[1;32m--> 533\u001b[0m     \u001b[38;5;28;01mreturn\u001b[39;00m \u001b[43mplot_backend\u001b[49m\u001b[38;5;241;43m.\u001b[39;49m\u001b[43mboxplot_frame\u001b[49m\u001b[43m(\u001b[49m\n\u001b[0;32m    534\u001b[0m \u001b[43m        \u001b[49m\u001b[38;5;28;43mself\u001b[39;49m\u001b[43m,\u001b[49m\n\u001b[0;32m    535\u001b[0m \u001b[43m        \u001b[49m\u001b[43mcolumn\u001b[49m\u001b[38;5;241;43m=\u001b[39;49m\u001b[43mcolumn\u001b[49m\u001b[43m,\u001b[49m\n\u001b[0;32m    536\u001b[0m \u001b[43m        \u001b[49m\u001b[43mby\u001b[49m\u001b[38;5;241;43m=\u001b[39;49m\u001b[43mby\u001b[49m\u001b[43m,\u001b[49m\n\u001b[0;32m    537\u001b[0m \u001b[43m        \u001b[49m\u001b[43max\u001b[49m\u001b[38;5;241;43m=\u001b[39;49m\u001b[43max\u001b[49m\u001b[43m,\u001b[49m\n\u001b[0;32m    538\u001b[0m \u001b[43m        \u001b[49m\u001b[43mfontsize\u001b[49m\u001b[38;5;241;43m=\u001b[39;49m\u001b[43mfontsize\u001b[49m\u001b[43m,\u001b[49m\n\u001b[0;32m    539\u001b[0m \u001b[43m        \u001b[49m\u001b[43mrot\u001b[49m\u001b[38;5;241;43m=\u001b[39;49m\u001b[43mrot\u001b[49m\u001b[43m,\u001b[49m\n\u001b[0;32m    540\u001b[0m \u001b[43m        \u001b[49m\u001b[43mgrid\u001b[49m\u001b[38;5;241;43m=\u001b[39;49m\u001b[43mgrid\u001b[49m\u001b[43m,\u001b[49m\n\u001b[0;32m    541\u001b[0m \u001b[43m        \u001b[49m\u001b[43mfigsize\u001b[49m\u001b[38;5;241;43m=\u001b[39;49m\u001b[43mfigsize\u001b[49m\u001b[43m,\u001b[49m\n\u001b[0;32m    542\u001b[0m \u001b[43m        \u001b[49m\u001b[43mlayout\u001b[49m\u001b[38;5;241;43m=\u001b[39;49m\u001b[43mlayout\u001b[49m\u001b[43m,\u001b[49m\n\u001b[0;32m    543\u001b[0m \u001b[43m        \u001b[49m\u001b[43mreturn_type\u001b[49m\u001b[38;5;241;43m=\u001b[39;49m\u001b[43mreturn_type\u001b[49m\u001b[43m,\u001b[49m\n\u001b[0;32m    544\u001b[0m \u001b[43m        \u001b[49m\u001b[38;5;241;43m*\u001b[39;49m\u001b[38;5;241;43m*\u001b[39;49m\u001b[43mkwargs\u001b[49m\u001b[43m,\u001b[49m\n\u001b[0;32m    545\u001b[0m \u001b[43m    \u001b[49m\u001b[43m)\u001b[49m\n",
      "File \u001b[1;32mc:\\Users\\james\\miniconda3\\envs\\my_env\\Lib\\site-packages\\pandas\\plotting\\_matplotlib\\boxplot.py:492\u001b[0m, in \u001b[0;36mboxplot_frame\u001b[1;34m(self, column, by, ax, fontsize, rot, grid, figsize, layout, return_type, **kwds)\u001b[0m\n\u001b[0;32m    477\u001b[0m \u001b[38;5;28;01mdef\u001b[39;00m \u001b[38;5;21mboxplot_frame\u001b[39m(\n\u001b[0;32m    478\u001b[0m     \u001b[38;5;28mself\u001b[39m,\n\u001b[0;32m    479\u001b[0m     column\u001b[38;5;241m=\u001b[39m\u001b[38;5;28;01mNone\u001b[39;00m,\n\u001b[1;32m   (...)\u001b[0m\n\u001b[0;32m    488\u001b[0m     \u001b[38;5;241m*\u001b[39m\u001b[38;5;241m*\u001b[39mkwds,\n\u001b[0;32m    489\u001b[0m ):\n\u001b[0;32m    490\u001b[0m     \u001b[38;5;28;01mimport\u001b[39;00m \u001b[38;5;21;01mmatplotlib\u001b[39;00m\u001b[38;5;21;01m.\u001b[39;00m\u001b[38;5;21;01mpyplot\u001b[39;00m \u001b[38;5;28;01mas\u001b[39;00m \u001b[38;5;21;01mplt\u001b[39;00m\n\u001b[1;32m--> 492\u001b[0m     ax \u001b[38;5;241m=\u001b[39m \u001b[43mboxplot\u001b[49m\u001b[43m(\u001b[49m\n\u001b[0;32m    493\u001b[0m \u001b[43m        \u001b[49m\u001b[38;5;28;43mself\u001b[39;49m\u001b[43m,\u001b[49m\n\u001b[0;32m    494\u001b[0m \u001b[43m        \u001b[49m\u001b[43mcolumn\u001b[49m\u001b[38;5;241;43m=\u001b[39;49m\u001b[43mcolumn\u001b[49m\u001b[43m,\u001b[49m\n\u001b[0;32m    495\u001b[0m \u001b[43m        \u001b[49m\u001b[43mby\u001b[49m\u001b[38;5;241;43m=\u001b[39;49m\u001b[43mby\u001b[49m\u001b[43m,\u001b[49m\n\u001b[0;32m    496\u001b[0m \u001b[43m        \u001b[49m\u001b[43max\u001b[49m\u001b[38;5;241;43m=\u001b[39;49m\u001b[43max\u001b[49m\u001b[43m,\u001b[49m\n\u001b[0;32m    497\u001b[0m \u001b[43m        \u001b[49m\u001b[43mfontsize\u001b[49m\u001b[38;5;241;43m=\u001b[39;49m\u001b[43mfontsize\u001b[49m\u001b[43m,\u001b[49m\n\u001b[0;32m    498\u001b[0m \u001b[43m        \u001b[49m\u001b[43mgrid\u001b[49m\u001b[38;5;241;43m=\u001b[39;49m\u001b[43mgrid\u001b[49m\u001b[43m,\u001b[49m\n\u001b[0;32m    499\u001b[0m \u001b[43m        \u001b[49m\u001b[43mrot\u001b[49m\u001b[38;5;241;43m=\u001b[39;49m\u001b[43mrot\u001b[49m\u001b[43m,\u001b[49m\n\u001b[0;32m    500\u001b[0m \u001b[43m        \u001b[49m\u001b[43mfigsize\u001b[49m\u001b[38;5;241;43m=\u001b[39;49m\u001b[43mfigsize\u001b[49m\u001b[43m,\u001b[49m\n\u001b[0;32m    501\u001b[0m \u001b[43m        \u001b[49m\u001b[43mlayout\u001b[49m\u001b[38;5;241;43m=\u001b[39;49m\u001b[43mlayout\u001b[49m\u001b[43m,\u001b[49m\n\u001b[0;32m    502\u001b[0m \u001b[43m        \u001b[49m\u001b[43mreturn_type\u001b[49m\u001b[38;5;241;43m=\u001b[39;49m\u001b[43mreturn_type\u001b[49m\u001b[43m,\u001b[49m\n\u001b[0;32m    503\u001b[0m \u001b[43m        \u001b[49m\u001b[38;5;241;43m*\u001b[39;49m\u001b[38;5;241;43m*\u001b[39;49m\u001b[43mkwds\u001b[49m\u001b[43m,\u001b[49m\n\u001b[0;32m    504\u001b[0m \u001b[43m    \u001b[49m\u001b[43m)\u001b[49m\n\u001b[0;32m    505\u001b[0m     plt\u001b[38;5;241m.\u001b[39mdraw_if_interactive()\n\u001b[0;32m    506\u001b[0m     \u001b[38;5;28;01mreturn\u001b[39;00m ax\n",
      "File \u001b[1;32mc:\\Users\\james\\miniconda3\\envs\\my_env\\Lib\\site-packages\\pandas\\plotting\\_matplotlib\\boxplot.py:471\u001b[0m, in \u001b[0;36mboxplot\u001b[1;34m(data, column, by, ax, fontsize, rot, grid, figsize, layout, return_type, **kwds)\u001b[0m\n\u001b[0;32m    468\u001b[0m     \u001b[38;5;28;01melse\u001b[39;00m:\n\u001b[0;32m    469\u001b[0m         data \u001b[38;5;241m=\u001b[39m data[columns]\n\u001b[1;32m--> 471\u001b[0m     result \u001b[38;5;241m=\u001b[39m \u001b[43mplot_group\u001b[49m\u001b[43m(\u001b[49m\u001b[43mcolumns\u001b[49m\u001b[43m,\u001b[49m\u001b[43m \u001b[49m\u001b[43mdata\u001b[49m\u001b[38;5;241;43m.\u001b[39;49m\u001b[43mvalues\u001b[49m\u001b[38;5;241;43m.\u001b[39;49m\u001b[43mT\u001b[49m\u001b[43m,\u001b[49m\u001b[43m \u001b[49m\u001b[43max\u001b[49m\u001b[43m,\u001b[49m\u001b[43m \u001b[49m\u001b[38;5;241;43m*\u001b[39;49m\u001b[38;5;241;43m*\u001b[39;49m\u001b[43mkwds\u001b[49m\u001b[43m)\u001b[49m\n\u001b[0;32m    472\u001b[0m     ax\u001b[38;5;241m.\u001b[39mgrid(grid)\n\u001b[0;32m    474\u001b[0m \u001b[38;5;28;01mreturn\u001b[39;00m result\n",
      "File \u001b[1;32mc:\\Users\\james\\miniconda3\\envs\\my_env\\Lib\\site-packages\\pandas\\plotting\\_matplotlib\\boxplot.py:414\u001b[0m, in \u001b[0;36mboxplot.<locals>.plot_group\u001b[1;34m(keys, values, ax, **kwds)\u001b[0m\n\u001b[0;32m    411\u001b[0m     ax\u001b[38;5;241m.\u001b[39mtick_params(axis\u001b[38;5;241m=\u001b[39m\u001b[38;5;124m\"\u001b[39m\u001b[38;5;124mboth\u001b[39m\u001b[38;5;124m\"\u001b[39m, labelsize\u001b[38;5;241m=\u001b[39mfontsize)\n\u001b[0;32m    413\u001b[0m \u001b[38;5;66;03m# GH 45465: x/y are flipped when \"vert\" changes\u001b[39;00m\n\u001b[1;32m--> 414\u001b[0m \u001b[43m_set_ticklabels\u001b[49m\u001b[43m(\u001b[49m\n\u001b[0;32m    415\u001b[0m \u001b[43m    \u001b[49m\u001b[43max\u001b[49m\u001b[38;5;241;43m=\u001b[39;49m\u001b[43max\u001b[49m\u001b[43m,\u001b[49m\u001b[43m \u001b[49m\u001b[43mlabels\u001b[49m\u001b[38;5;241;43m=\u001b[39;49m\u001b[43mkeys\u001b[49m\u001b[43m,\u001b[49m\u001b[43m \u001b[49m\u001b[43mis_vertical\u001b[49m\u001b[38;5;241;43m=\u001b[39;49m\u001b[43mkwds\u001b[49m\u001b[38;5;241;43m.\u001b[39;49m\u001b[43mget\u001b[49m\u001b[43m(\u001b[49m\u001b[38;5;124;43m\"\u001b[39;49m\u001b[38;5;124;43mvert\u001b[39;49m\u001b[38;5;124;43m\"\u001b[39;49m\u001b[43m,\u001b[49m\u001b[43m \u001b[49m\u001b[38;5;28;43;01mTrue\u001b[39;49;00m\u001b[43m)\u001b[49m\u001b[43m,\u001b[49m\u001b[43m \u001b[49m\u001b[43mrotation\u001b[49m\u001b[38;5;241;43m=\u001b[39;49m\u001b[43mrot\u001b[49m\n\u001b[0;32m    416\u001b[0m \u001b[43m\u001b[49m\u001b[43m)\u001b[49m\n\u001b[0;32m    417\u001b[0m maybe_color_bp(bp, color_tup\u001b[38;5;241m=\u001b[39mcolors, \u001b[38;5;241m*\u001b[39m\u001b[38;5;241m*\u001b[39mkwds)\n\u001b[0;32m    419\u001b[0m \u001b[38;5;66;03m# Return axes in multiplot case, maybe revisit later # 985\u001b[39;00m\n",
      "File \u001b[1;32mc:\\Users\\james\\miniconda3\\envs\\my_env\\Lib\\site-packages\\pandas\\plotting\\_matplotlib\\boxplot.py:57\u001b[0m, in \u001b[0;36m_set_ticklabels\u001b[1;34m(ax, labels, is_vertical, **kwargs)\u001b[0m\n\u001b[0;32m     55\u001b[0m \u001b[38;5;28;01mif\u001b[39;00m \u001b[38;5;28mlen\u001b[39m(ticks) \u001b[38;5;241m!=\u001b[39m \u001b[38;5;28mlen\u001b[39m(labels):\n\u001b[0;32m     56\u001b[0m     i, remainder \u001b[38;5;241m=\u001b[39m \u001b[38;5;28mdivmod\u001b[39m(\u001b[38;5;28mlen\u001b[39m(ticks), \u001b[38;5;28mlen\u001b[39m(labels))\n\u001b[1;32m---> 57\u001b[0m     \u001b[38;5;28;01massert\u001b[39;00m remainder \u001b[38;5;241m==\u001b[39m \u001b[38;5;241m0\u001b[39m, remainder\n\u001b[0;32m     58\u001b[0m     labels \u001b[38;5;241m*\u001b[39m\u001b[38;5;241m=\u001b[39m i\n\u001b[0;32m     59\u001b[0m \u001b[38;5;28;01mif\u001b[39;00m is_vertical:\n",
      "\u001b[1;31mAssertionError\u001b[0m: 2"
     ]
    },
    {
     "data": {
      "image/png": "[encoded data removed]",
      "text/plain": [
       "<Figure size 640x480 with 1 Axes>"
      ]
     },
     "metadata": {},
     "output_type": "display_data"
    }
   ],
   "source": [
    "import pandas as pd\n",
    "from db_utils import Plotter, DataTransform\n",
    "from matplotlib import pyplot as plt\n",
    "\n",
    "\n",
    "\n",
    "columns1 = ['open_accounts','total_accounts','out_prncp','out_prncp_inv']\n",
    "columns2 = ['annual_inc']\n",
    "columns3 = ['loan_amount', 'funded_amount', 'funded_amount_inv']\n",
    "columns4 = ['dti', 'instalment', 'int_rate']\n",
    "columns5 = ['delinq_2yrs', 'inq_last_6mths',]\n",
    "\n",
    "boxplot1 = df.boxplot(column = columns1, vert = False)#this visualises the data for outlier identification\n",
    "boxplot1\n",
    "boxplot2 = df.boxplot(column=columns2,vert = False)\n",
    "boxplot3 = df.boxplot(column=columns3,vert = False)\n",
    "boxplot4 = df.boxplot(column=columns4,vert = False)\n",
    "boxplot5 = df.boxplot(column=columns5,vert = False)\n",
    "\n",
    "#columns = ['open_accounts','total_accounts','out_prncp','out_prncp_inv','annual_inc','loan_amount','funded_amount','funded_amount_inv','dti','instalment','int_rate','delinq_2yrs','inq_last_6mths']\n",
    "#for col in columns:\n",
    "#        df.boxplot(column=col)"
   ]
  },
  {
   "cell_type": "code",
   "execution_count": null,
   "metadata": {},
   "outputs": [],
   "source": []
  },
  {
   "cell_type": "code",
   "execution_count": null,
   "metadata": {},
   "outputs": [],
   "source": []
  },
  {
   "cell_type": "code",
   "execution_count": null,
   "metadata": {},
   "outputs": [],
   "source": []
  },
  {
   "cell_type": "code",
   "execution_count": null,
   "metadata": {},
   "outputs": [],
   "source": []
  },
  {
   "cell_type": "code",
   "execution_count": null,
   "metadata": {},
   "outputs": [],
   "source": [
    "#import seaborn as sns\n",
    "#sns.displot(df['annual_inc'])"
   ]
  },
  {
   "cell_type": "code",
   "execution_count": null,
   "metadata": {},
   "outputs": [],
   "source": [
    "##Z-Score Method - from video\n",
    "#upper_limit = df['annual_inc'].mean() + 3*df['annual_inc'].std()\n",
    "#lower_limit = df['annual_inc'].mean() - 3*df['annual_inc'].std()\n",
    "##z_score = \n",
    "#df.loc[(df['annual_inc']>upper_limit) | (df['annual_inc']<lower_limit)]"
   ]
  },
  {
   "cell_type": "code",
   "execution_count": null,
   "metadata": {},
   "outputs": [],
   "source": [
    "# trimming - delete the outlier data - from video\n",
    "#new_df = df.loc[(df['annual_inc']<upper_limit) & (df['annual_inc']>lower_limit)]\n",
    "\n",
    "#for i in df[(columns1+columns2+columns3+columns4+columns5)]:#, list_of_uppers, list_of_lowers:\n",
    "#    upper_limit = df[i].mean() + 3*df[i].std()\n",
    "#    lower_limit = df[i].mean() - 3*df[i].std()\n",
    "#    new_df = df.loc[(df[i]<upper_limit) & (df[i]>lower_limit)]\n",
    "#    pass\n",
    "#new_df\n",
    "\n",
    "# capping - change the outlier values to upper (or) lower limit values - from video\n",
    "\n"
   ]
  },
  {
   "cell_type": "code",
   "execution_count": null,
   "metadata": {},
   "outputs": [],
   "source": [
    "## IQR Method - from video, same as from notebook\n",
    "#q1 = df['annual_inc'].quantile(0.25)\n",
    "#q3 = df\n",
    "#iqr = df"
   ]
  }
 ],
 "metadata": {
  "kernelspec": {
   "display_name": "my_env",
   "language": "python",
   "name": "python3"
  },
  "language_info": {
   "codemirror_mode": {
    "name": "ipython",
    "version": 3
   },
   "file_extension": ".py",
   "mimetype": "text/x-python",
   "name": "python",
   "nbconvert_exporter": "python",
   "pygments_lexer": "ipython3",
   "version": "3.12.2"
  }
 },
 "nbformat": 4,
 "nbformat_minor": 2
}
