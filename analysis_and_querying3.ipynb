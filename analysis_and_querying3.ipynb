{
 "cells": [
  {
   "cell_type": "code",
   "execution_count": 2,
   "metadata": {},
   "outputs": [
    {
     "name": "stdout",
     "output_type": "stream",
     "text": [
      "These are the symbols that will be dropped:  ['id', 'member_id', 'term', 'int_rate', 'instalment', 'grade', 'sub_grade', 'employment_length', 'verification_status', 'issue_date', 'payment_plan', 'purpose', 'dti', 'delinq_2yrs', 'home_ownership', 'earliest_credit_line', 'inq_last_6mths', 'open_accounts', 'total_accounts', 'last_payment_date', 'last_credit_pull_date', 'collections_12_mths_ex_med', 'policy_code', 'application_type', 'annual_inc']\n",
      "These are the remaining symbols:  ['loan_amount', 'funded_amount', 'funded_amount_inv', 'loan_status', 'out_prncp', 'out_prncp_inv', 'total_payment', 'total_payment_inv', 'total_rec_prncp', 'total_rec_int', 'total_rec_late_fee', 'recoveries', 'collection_recovery_fee', 'last_payment_amount']\n",
      "These are the symbols that will be dropped:  ['id']\n",
      "These are the remaining symbols:  ['member_id', 'loan_amount', 'funded_amount', 'funded_amount_inv', 'term', 'int_rate', 'instalment', 'grade', 'sub_grade', 'employment_length', 'home_ownership', 'annual_inc', 'verification_status', 'issue_date', 'loan_status', 'payment_plan', 'purpose', 'dti', 'delinq_2yrs', 'earliest_credit_line', 'inq_last_6mths', 'open_accounts', 'total_accounts', 'out_prncp', 'out_prncp_inv', 'total_payment', 'total_payment_inv', 'total_rec_prncp', 'total_rec_int', 'total_rec_late_fee', 'recoveries', 'collection_recovery_fee', 'last_payment_date', 'last_payment_amount', 'last_credit_pull_date', 'collections_12_mths_ex_med', 'policy_code', 'application_type']\n"
     ]
    },
    {
     "data": {
      "text/plain": [
       "\"\\n#df2[(df != 0).any(axis=1)]\\n# remove rows where nothing is there on any of the columns\\n\\nPL.plot_boxplots(df2, ['recoveries_as_a_%_of_loan_amount', 'recoveries_as_a_%_of_funded_amount', 'recoveries_as_a_%_of_funded_amount_inv'])\\n\""
      ]
     },
     "execution_count": 2,
     "metadata": {},
     "output_type": "execute_result"
    }
   ],
   "source": [
    "from RDSDatabaseConnector import RDSDatabaseConnector\n",
    "from Plotter import Plotter\n",
    "from DataTransform import DataTransform\n",
    "import pandas as pd\n",
    "\n",
    "RDSD = RDSDatabaseConnector()\n",
    "PL = Plotter()\n",
    "DT = DataTransform()\n",
    "df = pd.read_csv('data2.csv')\n",
    "\n",
    "all_columns = list(df.columns)\n",
    "#print(all_columns)\n",
    "\n",
    "def milestone4_task1(df):\n",
    "    \"\"\"_summary_ DOCSTRING\n",
    "\n",
    "    Args:\n",
    "        df (_type_): _description_\n",
    "    \"\"\"\n",
    "    \"\"\"Milestone 4 Task 1\n",
    "    Step 1: Summarise currently what percentage of the loans are recovered against the investor \n",
    "            funding and the total amount funded. Visualise your results on an appropriate graph.\n",
    "            \n",
    "    Step 2: Additionally visualise what percentage of the total amount would be recovered up to\n",
    "            6 months' in the future.\n",
    "    \"\"\"\n",
    "    def step1_cleanup(df, symbols):\n",
    "        df = DT.excess_symbol_removal(df, symbols)\n",
    "        return df\n",
    "    symbols1 = ['id', 'member_id', 'term', 'int_rate', 'instalment', 'grade', 'sub_grade', 'employment_length']\n",
    "    symbols2 = ['verification_status', 'issue_date', 'payment_plan', 'purpose', 'dti', 'delinq_2yrs', 'home_ownership']\n",
    "    symbols3 = ['earliest_credit_line', 'inq_last_6mths', 'open_accounts', 'total_accounts',  'last_payment_date']\n",
    "    symbols4 = ['last_credit_pull_date', 'collections_12_mths_ex_med', 'policy_code', 'application_type', 'annual_inc']\n",
    "    symbols = symbols1 + symbols2 + symbols3 + symbols4\n",
    "    step1_df_clean = step1_cleanup(df, symbols)\n",
    "    \n",
    "    def step2_cleanup(df, symbols):\n",
    "        df = DT.excess_symbol_removal(df, symbols)\n",
    "        return df\n",
    "    symbols = ['id']\n",
    "    step2_df_clean = step2_cleanup(df, symbols)\n",
    "    \n",
    "    return step1_df_clean, step2_df_clean\n",
    "        \n",
    "step1_df_clean, step2_df_clean = milestone4_task1(df)\n",
    "'''GOALS\n",
    "Summarise currently what percentage of the loans are recovered against the investor \n",
    "funding and the total amount funded. Visualise your results on an appropriate graph.\n",
    "\n",
    "SO ((loans_recovered/investor_funding, loans_recovered/total_amount_funded)%)GRAPH\n",
    "\n",
    "SO, columns which resemble these are loan_amount, funded_amount, funded_amount_inv,\n",
    "    instalment, loan_status, out_prncp, out_prncp_inv, total_payment, total_rec_int,\n",
    "    total_rec_late_fee, recoveries, collection_recovery_fee.\n",
    "\n",
    "Additionally visualise what percentage of the total amount would be recovered up to\n",
    "6 months' in the future.\n",
    "'''\n",
    "'''\n",
    "def create_df2(df):\n",
    "    def recoveries_divided_by(df):\n",
    "        recoveries_as_a_percentage_of_loan_amount: pd.Series = ((df['recoveries']/df['loan_amount'])*100)\n",
    "        recoveries_as_a_percentage_of_funded_amount: pd.Series = ((df['recoveries']/df['funded_amount'])*100)\n",
    "        recoveries_as_a_percentage_of_funded_amount_inv: pd.Series = ((df['recoveries']/df['funded_amount_inv'])*100)\n",
    "        return recoveries_as_a_percentage_of_loan_amount, recoveries_as_a_percentage_of_funded_amount, recoveries_as_a_percentage_of_funded_amount_inv\n",
    "    a, b, c = recoveries_divided_by(df)\n",
    "    df2 = pd.DataFrame({'recoveries_as_a_%_of_loan_amount':a, 'recoveries_as_a_%_of_funded_amount':b, 'recoveries_as_a_%_of_funded_amount_inv':c})\n",
    "    return df2\n",
    "\n",
    "df2 = create_df2(df)\n",
    "\n",
    "def clean_up_df2(df):\n",
    "    pass\n",
    "'''\n",
    "'''\n",
    "#df2[(df != 0).any(axis=1)]\n",
    "# remove rows where nothing is there on any of the columns\n",
    "\n",
    "PL.plot_boxplots(df2, ['recoveries_as_a_%_of_loan_amount', 'recoveries_as_a_%_of_funded_amount', 'recoveries_as_a_%_of_funded_amount_inv'])\n",
    "'''"
   ]
  }
 ],
 "metadata": {
  "kernelspec": {
   "display_name": "my_env",
   "language": "python",
   "name": "python3"
  },
  "language_info": {
   "codemirror_mode": {
    "name": "ipython",
    "version": 3
   },
   "file_extension": ".py",
   "mimetype": "text/x-python",
   "name": "python",
   "nbconvert_exporter": "python",
   "pygments_lexer": "ipython3",
   "version": "3.12.2"
  }
 },
 "nbformat": 4,
 "nbformat_minor": 2
}
